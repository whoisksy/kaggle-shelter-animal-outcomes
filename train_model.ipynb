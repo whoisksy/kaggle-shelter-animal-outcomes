{
 "cells": [
  {
   "cell_type": "code",
   "execution_count": 2,
   "metadata": {
    "colab": {
     "base_uri": "https://localhost:8080/",
     "height": 105
    },
    "colab_type": "code",
    "id": "feDUG8DaayC4",
    "outputId": "cf7a18e9-684a-44ae-b7dc-a6b2effe0ea6"
   },
   "outputs": [
    {
     "name": "stderr",
     "output_type": "stream",
     "text": [
      "/usr/local/lib/python3.6/dist-packages/sklearn/externals/six.py:31: FutureWarning: The module is deprecated in version 0.21 and will be removed in version 0.23 since we've dropped support for Python 2.7. Please rely on the official version of six (https://pypi.org/project/six/).\n",
      "  \"(https://pypi.org/project/six/).\", FutureWarning)\n",
      "/usr/local/lib/python3.6/dist-packages/sklearn/utils/deprecation.py:144: FutureWarning: The sklearn.neighbors.base module is  deprecated in version 0.22 and will be removed in version 0.24. The corresponding classes / functions should instead be imported from sklearn.neighbors. Anything that cannot be imported from sklearn.neighbors is now part of the private API.\n",
      "  warnings.warn(message, FutureWarning)\n"
     ]
    }
   ],
   "source": [
    "import pandas as pd\n",
    "import numpy as np\n",
    "\n",
    "import seaborn as sns\n",
    "from matplotlib import pyplot\n",
    "import matplotlib.pyplot as plt\n",
    "\n",
    "\n",
    "from sklearn import preprocessing\n",
    "from sklearn.model_selection import train_test_split\n",
    "from sklearn import model_selection\n",
    "from imblearn.over_sampling import SMOTE\n",
    "#import category_encoders as ce\n",
    "\n",
    "from sklearn import metrics\n",
    "from sklearn.metrics import classification_report\n",
    "from sklearn.metrics import f1_score\n",
    "\n",
    "from sklearn.multiclass import OneVsRestClassifier\n",
    "from sklearn.multiclass import OneVsOneClassifier\n",
    "\n",
    "from sklearn.linear_model import LogisticRegression\n",
    "from sklearn.naive_bayes import GaussianNB\n",
    "from sklearn.tree import DecisionTreeClassifier\n",
    "from sklearn.neighbors import KNeighborsClassifier\n",
    "from sklearn.ensemble import RandomForestClassifier\n",
    "from sklearn.ensemble import GradientBoostingClassifier\n",
    "from xgboost import XGBClassifier\n",
    "\n",
    "import warnings\n",
    "warnings.filterwarnings('ignore')"
   ]
  },
  {
   "cell_type": "code",
   "execution_count": 3,
   "metadata": {
    "colab": {
     "base_uri": "https://localhost:8080/",
     "height": 122
    },
    "colab_type": "code",
    "id": "nAPd647pa94f",
    "outputId": "9a754c41-b9ef-4567-da4c-708d784addcd"
   },
   "outputs": [
    {
     "name": "stdout",
     "output_type": "stream",
     "text": [
      "Go to this URL in a browser: https://accounts.google.com/o/oauth2/auth?client_id=947318989803-6bn6qk8qdgf4n4g3pfee6491hc0brc4i.apps.googleusercontent.com&redirect_uri=urn%3aietf%3awg%3aoauth%3a2.0%3aoob&response_type=code&scope=email%20https%3a%2f%2fwww.googleapis.com%2fauth%2fdocs.test%20https%3a%2f%2fwww.googleapis.com%2fauth%2fdrive%20https%3a%2f%2fwww.googleapis.com%2fauth%2fdrive.photos.readonly%20https%3a%2f%2fwww.googleapis.com%2fauth%2fpeopleapi.readonly\n",
      "\n",
      "Enter your authorization code:\n",
      "··········\n",
      "Mounted at /content/gdrive\n"
     ]
    }
   ],
   "source": [
    "from google.colab import drive\n",
    "drive.mount('/content/gdrive')\n",
    "path = '/content/gdrive/My Drive/' "
   ]
  },
  {
   "cell_type": "code",
   "execution_count": 4,
   "metadata": {
    "colab": {
     "base_uri": "https://localhost:8080/",
     "height": 34
    },
    "colab_type": "code",
    "id": "qI54zmp2ayDE",
    "outputId": "7f92329b-5b2d-4eaa-d450-de784564e77a"
   },
   "outputs": [
    {
     "data": {
      "text/plain": [
       "(47803, 37)"
      ]
     },
     "execution_count": 4,
     "metadata": {
      "tags": []
     },
     "output_type": "execute_result"
    }
   ],
   "source": [
    "data = pd.read_csv(path+'train.csv', header=0)\n",
    "data.shape"
   ]
  },
  {
   "cell_type": "code",
   "execution_count": 5,
   "metadata": {
    "colab": {
     "base_uri": "https://localhost:8080/",
     "height": 309
    },
    "colab_type": "code",
    "id": "h6vd5rDrayDL",
    "outputId": "7157f9d1-8ce7-43b8-a5b8-4ca9ce12e1df"
   },
   "outputs": [
    {
     "data": {
      "text/html": [
       "<div>\n",
       "<style scoped>\n",
       "    .dataframe tbody tr th:only-of-type {\n",
       "        vertical-align: middle;\n",
       "    }\n",
       "\n",
       "    .dataframe tbody tr th {\n",
       "        vertical-align: top;\n",
       "    }\n",
       "\n",
       "    .dataframe thead th {\n",
       "        text-align: right;\n",
       "    }\n",
       "</style>\n",
       "<table border=\"1\" class=\"dataframe\">\n",
       "  <thead>\n",
       "    <tr style=\"text-align: right;\">\n",
       "      <th></th>\n",
       "      <th>animal_id_outcome</th>\n",
       "      <th>dob_year</th>\n",
       "      <th>dob_month</th>\n",
       "      <th>age_upon_intake</th>\n",
       "      <th>animal_type</th>\n",
       "      <th>breed</th>\n",
       "      <th>color</th>\n",
       "      <th>intake_condition</th>\n",
       "      <th>intake_type</th>\n",
       "      <th>sex_upon_intake</th>\n",
       "      <th>count</th>\n",
       "      <th>age_upon_intake_(days)</th>\n",
       "      <th>age_upon_intake_(years)</th>\n",
       "      <th>age_upon_intake_age_group</th>\n",
       "      <th>intake_datetime</th>\n",
       "      <th>intake_month</th>\n",
       "      <th>intake_year</th>\n",
       "      <th>intake_monthyear</th>\n",
       "      <th>intake_weekday</th>\n",
       "      <th>intake_hour</th>\n",
       "      <th>intake_number</th>\n",
       "      <th>time_in_shelter</th>\n",
       "      <th>time_in_shelter_days</th>\n",
       "      <th>age_upon_outcome</th>\n",
       "      <th>date_of_birth</th>\n",
       "      <th>sex_upon_outcome</th>\n",
       "      <th>age_upon_outcome_(days)</th>\n",
       "      <th>age_upon_outcome_(years)</th>\n",
       "      <th>age_upon_outcome_age_group</th>\n",
       "      <th>outcome_datetime</th>\n",
       "      <th>outcome_month</th>\n",
       "      <th>outcome_year</th>\n",
       "      <th>outcome_monthyear</th>\n",
       "      <th>outcome_weekday</th>\n",
       "      <th>outcome_hour</th>\n",
       "      <th>outcome_number</th>\n",
       "      <th>outcome_type</th>\n",
       "    </tr>\n",
       "  </thead>\n",
       "  <tbody>\n",
       "    <tr>\n",
       "      <th>0</th>\n",
       "      <td>A006100</td>\n",
       "      <td>2007</td>\n",
       "      <td>7</td>\n",
       "      <td>10 years</td>\n",
       "      <td>Dog</td>\n",
       "      <td>Spinone Italiano Mix</td>\n",
       "      <td>Yellow/White</td>\n",
       "      <td>Normal</td>\n",
       "      <td>Stray</td>\n",
       "      <td>Neutered Male</td>\n",
       "      <td>1</td>\n",
       "      <td>3650</td>\n",
       "      <td>10.0</td>\n",
       "      <td>(7.5, 10.0]</td>\n",
       "      <td>2017-12-07 00:00:00</td>\n",
       "      <td>12</td>\n",
       "      <td>2017</td>\n",
       "      <td>2017-12</td>\n",
       "      <td>Thursday</td>\n",
       "      <td>14</td>\n",
       "      <td>1.0</td>\n",
       "      <td>0 days 14:07:00.000000000</td>\n",
       "      <td>0.588194</td>\n",
       "      <td>10 years</td>\n",
       "      <td>2007-07-09 00:00:00</td>\n",
       "      <td>Neutered Male</td>\n",
       "      <td>3650</td>\n",
       "      <td>10.0</td>\n",
       "      <td>(7.5, 10.0]</td>\n",
       "      <td>2017-12-07 14:07:00</td>\n",
       "      <td>12</td>\n",
       "      <td>2017</td>\n",
       "      <td>2017-12</td>\n",
       "      <td>Thursday</td>\n",
       "      <td>0</td>\n",
       "      <td>1.0</td>\n",
       "      <td>Return to Owner</td>\n",
       "    </tr>\n",
       "    <tr>\n",
       "      <th>1</th>\n",
       "      <td>A006100</td>\n",
       "      <td>2007</td>\n",
       "      <td>7</td>\n",
       "      <td>7 years</td>\n",
       "      <td>Dog</td>\n",
       "      <td>Spinone Italiano Mix</td>\n",
       "      <td>Yellow/White</td>\n",
       "      <td>Normal</td>\n",
       "      <td>Public Assist</td>\n",
       "      <td>Neutered Male</td>\n",
       "      <td>1</td>\n",
       "      <td>2555</td>\n",
       "      <td>7.0</td>\n",
       "      <td>(5.0, 7.5]</td>\n",
       "      <td>2014-12-19 10:21:00</td>\n",
       "      <td>12</td>\n",
       "      <td>2014</td>\n",
       "      <td>2014-12</td>\n",
       "      <td>Friday</td>\n",
       "      <td>10</td>\n",
       "      <td>2.0</td>\n",
       "      <td>1 days 06:14:00.000000000</td>\n",
       "      <td>1.259722</td>\n",
       "      <td>7 years</td>\n",
       "      <td>2007-07-09 00:00:00</td>\n",
       "      <td>Neutered Male</td>\n",
       "      <td>2555</td>\n",
       "      <td>7.0</td>\n",
       "      <td>(5.0, 7.5]</td>\n",
       "      <td>2014-12-20 16:35:00</td>\n",
       "      <td>12</td>\n",
       "      <td>2014</td>\n",
       "      <td>2014-12</td>\n",
       "      <td>Saturday</td>\n",
       "      <td>16</td>\n",
       "      <td>2.0</td>\n",
       "      <td>Return to Owner</td>\n",
       "    </tr>\n",
       "    <tr>\n",
       "      <th>2</th>\n",
       "      <td>A006100</td>\n",
       "      <td>2007</td>\n",
       "      <td>7</td>\n",
       "      <td>6 years</td>\n",
       "      <td>Dog</td>\n",
       "      <td>Spinone Italiano Mix</td>\n",
       "      <td>Yellow/White</td>\n",
       "      <td>Normal</td>\n",
       "      <td>Public Assist</td>\n",
       "      <td>Neutered Male</td>\n",
       "      <td>1</td>\n",
       "      <td>2190</td>\n",
       "      <td>6.0</td>\n",
       "      <td>(5.0, 7.5]</td>\n",
       "      <td>2014-03-07 14:26:00</td>\n",
       "      <td>3</td>\n",
       "      <td>2014</td>\n",
       "      <td>2014-03</td>\n",
       "      <td>Friday</td>\n",
       "      <td>14</td>\n",
       "      <td>3.0</td>\n",
       "      <td>1 days 02:44:00.000000000</td>\n",
       "      <td>1.113889</td>\n",
       "      <td>6 years</td>\n",
       "      <td>2007-07-09 00:00:00</td>\n",
       "      <td>Neutered Male</td>\n",
       "      <td>2190</td>\n",
       "      <td>6.0</td>\n",
       "      <td>(5.0, 7.5]</td>\n",
       "      <td>NaN</td>\n",
       "      <td>3</td>\n",
       "      <td>2014</td>\n",
       "      <td>2014-03</td>\n",
       "      <td>Saturday</td>\n",
       "      <td>17</td>\n",
       "      <td>3.0</td>\n",
       "      <td>Return to Owner</td>\n",
       "    </tr>\n",
       "    <tr>\n",
       "      <th>3</th>\n",
       "      <td>A047759</td>\n",
       "      <td>2004</td>\n",
       "      <td>4</td>\n",
       "      <td>10 years</td>\n",
       "      <td>Dog</td>\n",
       "      <td>Dachshund</td>\n",
       "      <td>Tricolor</td>\n",
       "      <td>Normal</td>\n",
       "      <td>Owner Surrender</td>\n",
       "      <td>Neutered Male</td>\n",
       "      <td>1</td>\n",
       "      <td>3650</td>\n",
       "      <td>10.0</td>\n",
       "      <td>(7.5, 10.0]</td>\n",
       "      <td>2014-04-02 15:55:00</td>\n",
       "      <td>4</td>\n",
       "      <td>2014</td>\n",
       "      <td>2014-04</td>\n",
       "      <td>Wednesday</td>\n",
       "      <td>15</td>\n",
       "      <td>1.0</td>\n",
       "      <td>4 days 23:17:00.000000000</td>\n",
       "      <td>4.970139</td>\n",
       "      <td>10 years</td>\n",
       "      <td>2004-04-02 00:00:00</td>\n",
       "      <td>Neutered Male</td>\n",
       "      <td>3650</td>\n",
       "      <td>10.0</td>\n",
       "      <td>(7.5, 10.0]</td>\n",
       "      <td>2014-04-07 15:12:00</td>\n",
       "      <td>4</td>\n",
       "      <td>2014</td>\n",
       "      <td>2014-04</td>\n",
       "      <td>Monday</td>\n",
       "      <td>15</td>\n",
       "      <td>1.0</td>\n",
       "      <td>Missing</td>\n",
       "    </tr>\n",
       "    <tr>\n",
       "      <th>4</th>\n",
       "      <td>A134067</td>\n",
       "      <td>1997</td>\n",
       "      <td>10</td>\n",
       "      <td>16 years</td>\n",
       "      <td>Dog</td>\n",
       "      <td>Shetland Sheepdog</td>\n",
       "      <td>Brown/White</td>\n",
       "      <td>Injured</td>\n",
       "      <td>Public Assist</td>\n",
       "      <td>Neutered Male</td>\n",
       "      <td>1</td>\n",
       "      <td>5840</td>\n",
       "      <td>16.0</td>\n",
       "      <td>(15.0, 17.5]</td>\n",
       "      <td>2013-11-16 09:02:00</td>\n",
       "      <td>11</td>\n",
       "      <td>2013</td>\n",
       "      <td>2013-11</td>\n",
       "      <td>Saturday</td>\n",
       "      <td>9</td>\n",
       "      <td>1.0</td>\n",
       "      <td>0 days 02:52:00.000000000</td>\n",
       "      <td>0.119444</td>\n",
       "      <td>16 years</td>\n",
       "      <td>1997-10-16 00:00:00</td>\n",
       "      <td>Neutered Male</td>\n",
       "      <td>5840</td>\n",
       "      <td>16.0</td>\n",
       "      <td>(15.0, 17.5]</td>\n",
       "      <td>2013-11-16 11:54:00</td>\n",
       "      <td>11</td>\n",
       "      <td>2013</td>\n",
       "      <td>2013-11</td>\n",
       "      <td>Saturday</td>\n",
       "      <td>11</td>\n",
       "      <td>1.0</td>\n",
       "      <td>Return to Owner</td>\n",
       "    </tr>\n",
       "  </tbody>\n",
       "</table>\n",
       "</div>"
      ],
      "text/plain": [
       "  animal_id_outcome  dob_year  ...  outcome_number     outcome_type\n",
       "0           A006100      2007  ...             1.0  Return to Owner\n",
       "1           A006100      2007  ...             2.0  Return to Owner\n",
       "2           A006100      2007  ...             3.0  Return to Owner\n",
       "3           A047759      2004  ...             1.0          Missing\n",
       "4           A134067      1997  ...             1.0  Return to Owner\n",
       "\n",
       "[5 rows x 37 columns]"
      ]
     },
     "execution_count": 5,
     "metadata": {
      "tags": []
     },
     "output_type": "execute_result"
    }
   ],
   "source": [
    "data.head()"
   ]
  },
  {
   "cell_type": "code",
   "execution_count": 6,
   "metadata": {
    "colab": {
     "base_uri": "https://localhost:8080/",
     "height": 663
    },
    "colab_type": "code",
    "id": "ZwOyCsquayDP",
    "outputId": "ef8a1c39-eaca-4a8b-a4af-78638442c827"
   },
   "outputs": [
    {
     "data": {
      "text/plain": [
       "animal_id_outcome                0\n",
       "dob_year                         0\n",
       "dob_month                        0\n",
       "age_upon_intake                  0\n",
       "animal_type                      0\n",
       "breed                            0\n",
       "color                            0\n",
       "intake_condition                 0\n",
       "intake_type                      0\n",
       "sex_upon_intake                  1\n",
       "count                            0\n",
       "age_upon_intake_(days)           0\n",
       "age_upon_intake_(years)          0\n",
       "age_upon_intake_age_group        0\n",
       "intake_datetime                  0\n",
       "intake_month                     0\n",
       "intake_year                      0\n",
       "intake_monthyear                 0\n",
       "intake_weekday                   0\n",
       "intake_hour                      0\n",
       "intake_number                    0\n",
       "time_in_shelter                  0\n",
       "time_in_shelter_days             0\n",
       "age_upon_outcome                 0\n",
       "date_of_birth                    0\n",
       "sex_upon_outcome                 1\n",
       "age_upon_outcome_(days)          0\n",
       "age_upon_outcome_(years)         0\n",
       "age_upon_outcome_age_group       0\n",
       "outcome_datetime              9619\n",
       "outcome_month                    0\n",
       "outcome_year                     0\n",
       "outcome_monthyear                0\n",
       "outcome_weekday                  0\n",
       "outcome_hour                     0\n",
       "outcome_number                   0\n",
       "outcome_type                     0\n",
       "dtype: int64"
      ]
     },
     "execution_count": 6,
     "metadata": {
      "tags": []
     },
     "output_type": "execute_result"
    }
   ],
   "source": [
    "data.isnull().sum()"
   ]
  },
  {
   "cell_type": "code",
   "execution_count": 0,
   "metadata": {
    "colab": {},
    "colab_type": "code",
    "id": "-RwBUNatayDU"
   },
   "outputs": [],
   "source": [
    "data.drop('outcome_datetime', axis=1, inplace=True)"
   ]
  },
  {
   "cell_type": "code",
   "execution_count": 8,
   "metadata": {
    "colab": {
     "base_uri": "https://localhost:8080/",
     "height": 117
    },
    "colab_type": "code",
    "id": "ik----a_ayDa",
    "outputId": "dae7f585-f628-4014-cd2f-5f884b1b14b6"
   },
   "outputs": [
    {
     "data": {
      "text/html": [
       "<div>\n",
       "<style scoped>\n",
       "    .dataframe tbody tr th:only-of-type {\n",
       "        vertical-align: middle;\n",
       "    }\n",
       "\n",
       "    .dataframe tbody tr th {\n",
       "        vertical-align: top;\n",
       "    }\n",
       "\n",
       "    .dataframe thead th {\n",
       "        text-align: right;\n",
       "    }\n",
       "</style>\n",
       "<table border=\"1\" class=\"dataframe\">\n",
       "  <thead>\n",
       "    <tr style=\"text-align: right;\">\n",
       "      <th></th>\n",
       "      <th>animal_id_outcome</th>\n",
       "      <th>dob_year</th>\n",
       "      <th>dob_month</th>\n",
       "      <th>age_upon_intake</th>\n",
       "      <th>animal_type</th>\n",
       "      <th>breed</th>\n",
       "      <th>color</th>\n",
       "      <th>intake_condition</th>\n",
       "      <th>intake_type</th>\n",
       "      <th>sex_upon_intake</th>\n",
       "      <th>count</th>\n",
       "      <th>age_upon_intake_(days)</th>\n",
       "      <th>age_upon_intake_(years)</th>\n",
       "      <th>age_upon_intake_age_group</th>\n",
       "      <th>intake_datetime</th>\n",
       "      <th>intake_month</th>\n",
       "      <th>intake_year</th>\n",
       "      <th>intake_monthyear</th>\n",
       "      <th>intake_weekday</th>\n",
       "      <th>intake_hour</th>\n",
       "      <th>intake_number</th>\n",
       "      <th>time_in_shelter</th>\n",
       "      <th>time_in_shelter_days</th>\n",
       "      <th>age_upon_outcome</th>\n",
       "      <th>date_of_birth</th>\n",
       "      <th>sex_upon_outcome</th>\n",
       "      <th>age_upon_outcome_(days)</th>\n",
       "      <th>age_upon_outcome_(years)</th>\n",
       "      <th>age_upon_outcome_age_group</th>\n",
       "      <th>outcome_month</th>\n",
       "      <th>outcome_year</th>\n",
       "      <th>outcome_monthyear</th>\n",
       "      <th>outcome_weekday</th>\n",
       "      <th>outcome_hour</th>\n",
       "      <th>outcome_number</th>\n",
       "      <th>outcome_type</th>\n",
       "    </tr>\n",
       "  </thead>\n",
       "  <tbody>\n",
       "    <tr>\n",
       "      <th>6523</th>\n",
       "      <td>A667395</td>\n",
       "      <td>2006</td>\n",
       "      <td>11</td>\n",
       "      <td>7 years</td>\n",
       "      <td>Dog</td>\n",
       "      <td>Dachshund</td>\n",
       "      <td>Brown Merle</td>\n",
       "      <td>Normal</td>\n",
       "      <td>Owner Surrender</td>\n",
       "      <td>NaN</td>\n",
       "      <td>1</td>\n",
       "      <td>2555</td>\n",
       "      <td>7.0</td>\n",
       "      <td>(5.0, 7.5]</td>\n",
       "      <td>2013-11-17 13:15:00</td>\n",
       "      <td>11</td>\n",
       "      <td>2013</td>\n",
       "      <td>2013-11</td>\n",
       "      <td>Sunday</td>\n",
       "      <td>13</td>\n",
       "      <td>1.0</td>\n",
       "      <td>10 days 02:56:00.000000000</td>\n",
       "      <td>10.122222</td>\n",
       "      <td>7 years</td>\n",
       "      <td>2006-11-17 00:00:00</td>\n",
       "      <td>NaN</td>\n",
       "      <td>2555</td>\n",
       "      <td>7.0</td>\n",
       "      <td>(5.0, 7.5]</td>\n",
       "      <td>11</td>\n",
       "      <td>2013</td>\n",
       "      <td>2013-11</td>\n",
       "      <td>Wednesday</td>\n",
       "      <td>16</td>\n",
       "      <td>1.0</td>\n",
       "      <td>Return to Owner</td>\n",
       "    </tr>\n",
       "  </tbody>\n",
       "</table>\n",
       "</div>"
      ],
      "text/plain": [
       "     animal_id_outcome  dob_year  ...  outcome_number     outcome_type\n",
       "6523           A667395      2006  ...             1.0  Return to Owner\n",
       "\n",
       "[1 rows x 36 columns]"
      ]
     },
     "execution_count": 8,
     "metadata": {
      "tags": []
     },
     "output_type": "execute_result"
    }
   ],
   "source": [
    "data[data.sex_upon_intake.isnull()]"
   ]
  },
  {
   "cell_type": "code",
   "execution_count": 0,
   "metadata": {
    "colab": {},
    "colab_type": "code",
    "id": "ad0uzXm0ayDj"
   },
   "outputs": [],
   "source": [
    "data.fillna('Unknown', inplace = True)"
   ]
  },
  {
   "cell_type": "code",
   "execution_count": 10,
   "metadata": {
    "colab": {
     "base_uri": "https://localhost:8080/",
     "height": 646
    },
    "colab_type": "code",
    "id": "qrP2qx36ayDm",
    "outputId": "5f195335-f8ba-4a45-ee60-2fb4ad45dc85"
   },
   "outputs": [
    {
     "data": {
      "text/plain": [
       "animal_id_outcome             0\n",
       "dob_year                      0\n",
       "dob_month                     0\n",
       "age_upon_intake               0\n",
       "animal_type                   0\n",
       "breed                         0\n",
       "color                         0\n",
       "intake_condition              0\n",
       "intake_type                   0\n",
       "sex_upon_intake               0\n",
       "count                         0\n",
       "age_upon_intake_(days)        0\n",
       "age_upon_intake_(years)       0\n",
       "age_upon_intake_age_group     0\n",
       "intake_datetime               0\n",
       "intake_month                  0\n",
       "intake_year                   0\n",
       "intake_monthyear              0\n",
       "intake_weekday                0\n",
       "intake_hour                   0\n",
       "intake_number                 0\n",
       "time_in_shelter               0\n",
       "time_in_shelter_days          0\n",
       "age_upon_outcome              0\n",
       "date_of_birth                 0\n",
       "sex_upon_outcome              0\n",
       "age_upon_outcome_(days)       0\n",
       "age_upon_outcome_(years)      0\n",
       "age_upon_outcome_age_group    0\n",
       "outcome_month                 0\n",
       "outcome_year                  0\n",
       "outcome_monthyear             0\n",
       "outcome_weekday               0\n",
       "outcome_hour                  0\n",
       "outcome_number                0\n",
       "outcome_type                  0\n",
       "dtype: int64"
      ]
     },
     "execution_count": 10,
     "metadata": {
      "tags": []
     },
     "output_type": "execute_result"
    }
   ],
   "source": [
    "data.isnull().sum()"
   ]
  },
  {
   "cell_type": "code",
   "execution_count": 0,
   "metadata": {
    "colab": {},
    "colab_type": "code",
    "id": "hbJ1L7sDayDp"
   },
   "outputs": [],
   "source": [
    "data.drop('animal_id_outcome', axis=1, inplace=True)"
   ]
  },
  {
   "cell_type": "code",
   "execution_count": 0,
   "metadata": {
    "colab": {},
    "colab_type": "code",
    "id": "nuiEk96CayDs"
   },
   "outputs": [],
   "source": [
    "targets = data.outcome_type.unique()"
   ]
  },
  {
   "cell_type": "code",
   "execution_count": 13,
   "metadata": {
    "colab": {
     "base_uri": "https://localhost:8080/",
     "height": 1000
    },
    "colab_type": "code",
    "id": "wu8R_1XEayDv",
    "outputId": "cc5c7eef-3331-4789-e401-61ad2e1de47f"
   },
   "outputs": [
    {
     "name": "stdout",
     "output_type": "stream",
     "text": [
      "dob_year [2007 2004 1997 1998 1999 2000 1994 2001 2002 2003 2006 2009 2005 2011\n",
      " 1995 2008 2013 2010 1996 2016 2014 2012 2015 1992 1993] \n",
      "\n",
      "dob_month [ 7  4 10  6  8  3  1  5 11 12  2  9] \n",
      "\n",
      "age_upon_intake ['10 years' '7 years' '6 years' '16 years' '15 years' '18 years'\n",
      " '14 years' '17 years' '13 years' '19 years' '12 years' '20 years'\n",
      " '11 years' '9 years' '5 years' '8 years' '3 years' '4 years' '1 year'\n",
      " '11 months' '9 months' '2 years' '8 months' '10 months' '7 months'\n",
      " '5 months' '6 months' '3 months' '4 months' '2 months' '1 week' '3 weeks'\n",
      " '1 weeks' '0 years' '4 weeks' '1 month' '2 weeks' '3 days' '4 days'\n",
      " '2 days' '1 day' '5 weeks' '5 days' '6 days' '22 years'] \n",
      "\n",
      "animal_type ['Dog' 'Cat' 'Other' 'Bird'] \n",
      "\n",
      "breed ['Spinone Italiano Mix' 'Dachshund' 'Shetland Sheepdog' ...\n",
      " 'Dachshund/Pomeranian' 'Rhod Ridgeback/Chow Chow' 'Mastiff/Bloodhound'] \n",
      "\n",
      "color ['Yellow/White' 'Tricolor' 'Brown/White' 'Black/White' 'Black/Gray'\n",
      " 'White/Black' 'Brown Tabby/White' 'Black/Tan' 'Tan/Black' 'Black'\n",
      " 'Gold/Gold' 'Sable/White' 'Blue Merle/Tan' 'Blue Merle' 'Brown/Black'\n",
      " 'Black/Tricolor' 'Gray/White' 'Black/Black' 'Tan' 'Black/Brown' 'Cream'\n",
      " 'Red' 'Yellow' 'Gray Tabby/White' 'Brown Merle' 'White' 'White/Brown'\n",
      " 'Tortie' 'White/Gray Tabby' 'Black/Brown Brindle' 'Black Smoke/White'\n",
      " 'Brown/Tan' 'Orange Tabby/White' 'Blue Cream/Tortie' 'Lynx Point'\n",
      " 'Brown/Buff' 'Red Merle' 'Calico' 'Brown' 'Brown/Cream' 'Blue/White'\n",
      " 'Red/White' 'Tan/White' 'Lilac Point' 'Gold' 'Brown Tabby' 'Red/Black'\n",
      " 'Black Brindle' 'Brown/Blue Merle' 'Blue' 'Red/Tan' 'Black/Red'\n",
      " 'Chocolate' 'Brown Tabby/Agouti' 'Blue Point' 'Silver Tabby'\n",
      " 'Brown Brindle/White' 'Cream/White' 'Blue Merle/White' 'White/Liver'\n",
      " 'White/Cream' 'Blue/Tan' 'Seal Point' 'Cream/Tan' 'Flame Point'\n",
      " 'White/Tan' 'Red/Brown' 'Chocolate/White' 'White/Brown Merle'\n",
      " 'Black/Cream' 'Brown Brindle' 'White/Gray' 'Brown Merle/White'\n",
      " 'Yellow/Tan' 'Tortie/Blue Cream' 'Blue Tick/Brown' 'Gold/White' 'Apricot'\n",
      " 'White/Tricolor' 'Black/Blue Tick' 'Buff/Tan' 'Chocolate Point'\n",
      " 'Black Tabby' 'Tan/Buff' 'Buff/Yellow' 'Silver/White' 'Seal Point/White'\n",
      " 'White/Brown Brindle' 'Chocolate/Tan' 'Tan/Gray' 'White/Red'\n",
      " 'Black Brindle/White' 'White/Red Tick' 'Gray' 'Blue Tick'\n",
      " 'White/Brown Tabby' 'White/Gold' 'Blue Cream' 'Cream/Black' 'Black Smoke'\n",
      " 'Sable' 'Silver/Brown' 'Buff' 'Buff/White' 'Brown Tabby/Orange'\n",
      " 'Flame Point/White' 'Blue Tabby/White' 'Tan/Silver' 'Cream Tabby/White'\n",
      " 'Blue Tabby' 'Orange Tabby' 'White/Orange Tabby' 'Torbie' 'Silver'\n",
      " 'Calico Point' 'Tan/Tan' 'Buff/Gray' 'White/Red Merle' 'White/White'\n",
      " 'Gray/Black' 'Tortie Point' 'Blue Tick/White' 'Brown/Brown Merle'\n",
      " 'Brown/Tricolor' 'Black Brindle/Brown' 'White/Chocolate' 'Fawn/Black'\n",
      " 'White/Blue' 'Blue Tick/Black' 'Brown/Brown Brindle' 'Tan/Cream'\n",
      " 'White/Blue Merle' 'Brown Brindle/Tan' 'Fawn/White' 'White/Buff'\n",
      " 'Cream/Yellow' 'White/Black Brindle' 'Blue Merle/Black' 'Gray/Gold'\n",
      " 'White/Lynx Point' 'Red Tick' 'White/Liver Tick' 'Brown/Red'\n",
      " 'Liver/White' 'Black/Blue' 'Black Tiger/White' 'Fawn'\n",
      " 'Chocolate/Chocolate' 'Red Tick/Red' 'Fawn/Blue' 'White/Orange'\n",
      " 'Orange/White' 'Tricolor/Tricolor' 'Blue Tiger/White' 'Brown/Red Tick'\n",
      " 'Fawn/Tricolor' 'Yellow Brindle/White' 'Black/Yellow' 'Tricolor/White'\n",
      " 'Gray/Tricolor' 'Blue Point/White' 'Cream/Red' 'Blue/Brown'\n",
      " 'White/Apricot' 'Red Tick/White' 'White/Seal Point' 'Blue Merle/Brown'\n",
      " 'Cream Tabby' 'Chocolate/Liver Tick' 'Silver/Tan' 'Gold/Brown'\n",
      " 'Tricolor/Black' 'Tan/Tricolor' 'Tan/Brown' 'Black/Orange' 'Gray/Cream'\n",
      " 'White/Brown Tiger' 'White/Blue Cream' 'Red Tick/Brown' 'Tan/Blue'\n",
      " 'White/Silver' 'Cream/Gray' 'Red Merle/White' 'Blue Cream/White'\n",
      " 'Black/Black Brindle' 'White/Yellow Brindle' 'Gray/Tan' 'Tortie/White'\n",
      " 'Black/Blue Merle' 'Silver/Black' 'Tan/Brown Merle' 'Brown/Brown'\n",
      " 'Black/Brown Merle' 'Blue/Cream' 'Red Tick/Blue Tick'\n",
      " 'Brown Brindle/Gray' 'Black/Silver' 'Sable/Tan' 'Tan/Yellow Brindle'\n",
      " 'Sable/Black' 'Black Tabby/White' 'White/Yellow' 'Blue Merle/Cream'\n",
      " 'Chocolate/Gray' 'Chocolate/Tricolor' 'Gray/Brown' 'Torbie/White'\n",
      " 'Calico/White' 'Red/Buff' 'Fawn/Tan' 'Gold/Buff' 'Brown Tiger'\n",
      " 'Blue/Black' 'Buff/Black' 'Red/Cream' 'Cream/Seal Point' 'Yellow/Gray'\n",
      " 'Red Tick/Tan' 'Red Tick/Brown Merle' 'Brown Tabby/Black' 'Green'\n",
      " 'Tricolor/Chocolate' 'Apricot/White' 'Chocolate/Brown'\n",
      " 'Brown Brindle/Brown Merle' 'Brown Brindle/Black'\n",
      " 'Brown Brindle/Blue Cream' 'Red/Tricolor' 'Orange' 'Gray/Orange'\n",
      " 'Calico/Brown Tabby' 'Tricolor/Blue' 'Silver Tabby/White' 'Gray/Red'\n",
      " 'Red Merle/Black' 'Blue Cream/Blue Tabby' 'Brown/Silver' 'Yellow/Black'\n",
      " 'Gray Tabby' 'Black/Chocolate' 'Brown/Yellow' 'Lynx Point/Brown Tabby'\n",
      " 'Lynx Point/White' 'Brown Tabby/Tortie' 'Lynx Point/Gray Tabby'\n",
      " 'Brown/Gray' 'White/Blue Tabby' 'Red/Red Tick' 'Silver/Chocolate'\n",
      " 'Blue Tabby/Blue Cream' 'Tricolor/Brown' 'Black/Black Smoke' 'Tan/Red'\n",
      " 'Sable/Red Merle' 'Brown Brindle/Blue Tick' 'Black Brindle/Blue Tick'\n",
      " 'Blue/Brown Brindle' 'Tricolor/Blue Merle' 'Blue Cream/Buff'\n",
      " 'Blue Merle/Tricolor' 'Blue Tick/Tan' 'Calico/Blue Cream' 'Tan/Yellow'\n",
      " 'Blue Merle/Gray' 'Blue Smoke/Brown' 'Chocolate/Red' 'Ruddy/Cream'\n",
      " 'Chocolate Point/White' 'Brown Merle/Black' 'Brown/Red Merle'\n",
      " 'Blue/Tricolor' 'Red/Gray' 'White/Cream Tabby' 'Tricolor/Tan'\n",
      " 'Calico Point/White' 'Black Smoke/Black' 'Black/Buff'\n",
      " 'Brown/Black Brindle' 'Sable/Brown' 'White/Pink' 'Yellow Brindle'\n",
      " 'Gray/Pink' 'Blue Tick/Brown Brindle' 'Fawn/Brown' 'Gold/Black'\n",
      " 'Gold/Yellow' 'Tortie/Orange' 'Blue Tick/Red Tick' 'Calico/Orange Tabby'\n",
      " 'Chocolate/Black' 'Pink' 'Calico/Blue Tabby' 'Agouti/Gray'\n",
      " 'Red/Red Merle' 'Gray/Yellow' 'Tan/Apricot' 'Liver/Tan'\n",
      " 'White/Black Tabby' 'Brown/Orange' 'Yellow/Brown' 'Blue Merle/Red'\n",
      " 'Liver Tick/White' 'Red/Silver' 'Brown Tabby/Gray Tabby' 'Red Tick/Black'\n",
      " 'Agouti/Brown Tabby' 'Tortie/Black' 'Sable/Buff' 'Green/Yellow'\n",
      " 'Brown Brindle/Brown' 'Silver Lynx Point' 'Gray/Tortie'\n",
      " 'Silver Tabby/Black' 'Tricolor/Blue Tick' 'Black Brindle/Brown Brindle'\n",
      " 'Gold/Tan' 'Liver/Buff' 'Seal Point/Gray' 'Brown/Chocolate' 'Green/White'\n",
      " 'Buff/Brown' 'Blue Tabby/Black' 'Black Tabby/Black' 'Agouti'\n",
      " 'Apricot/Brown' 'Blue Tiger' 'Blue Merle/Red Merle' 'Blue/Gray'\n",
      " 'Gray/Blue' 'Brown Brindle/Red Tick' 'Chocolate/Brown Merle'\n",
      " 'Brown Tabby/Black Brindle' 'Brown Tabby/Brown' 'Fawn/Brown Brindle'\n",
      " 'Cream/Orange' 'Chocolate/Brown Brindle' 'White/Black Smoke'\n",
      " 'Chocolate/Red Tick' 'Orange Tiger' 'Cream/Red Tick' 'Lilac Point/White'\n",
      " 'Green/Blue' 'Chocolate/Cream' 'White/Flame Point' 'Brown Merle/Tan'\n",
      " 'Blue Tabby/Cream' 'Black Smoke/Brown Tabby' 'Calico/Black'\n",
      " 'White/Gray Tiger' 'Orange/Tan' 'Gray Tabby/Black' 'Brown Brindle/Blue'\n",
      " 'Tortie/Calico' 'Liver Tick' 'Red Merle/Tan' 'Gray/Silver'\n",
      " 'Torbie/Blue Cream' 'Chocolate Point/Cream' 'Yellow Brindle/Blue'\n",
      " 'Red/Blue' 'Blue Tick/Red' 'White/Blue Tick' 'Black/Yellow Brindle'\n",
      " 'Blue Cream/Blue Tiger' 'Tan/Gold' 'Red/Green' 'Blue Merle/Blue Merle'\n",
      " 'Black/Green' 'White/Calico' 'Orange/Brown' 'Brown Tiger/White'\n",
      " 'Sable/Cream' 'Blue Merle/Brown Brindle' 'Blue/Calico' 'Green/Orange'\n",
      " 'Orange Tabby/Orange' 'Tan/Brown Brindle' 'Black Brindle/Black'\n",
      " 'Brown Brindle/Brown Brindle' 'Liver' 'Brown/Blue' 'Tricolor/Silver'\n",
      " 'Yellow/Yellow' 'Sable/Red' 'Chocolate/Gold' 'Apricot/Tricolor'\n",
      " 'Calico/Tricolor' 'Blue/Yellow Brindle' 'Calico/Brown' 'Green/Brown'\n",
      " 'Tortie Point/White' 'Blue Smoke/White' 'Buff/Cream' 'Brown Tabby/Gray'\n",
      " 'Torbie/Calico' 'Gray/Buff' 'Fawn/Chocolate' 'Fawn/Gray' 'Torbie/Brown'\n",
      " 'Black/Tortie' 'Red/Gold' 'Orange/Black' 'Gold/Cream'\n",
      " 'Tortie/Black Smoke' 'Blue Tabby/Tan' 'Lilac Point/Cream' 'Buff/Red'\n",
      " 'White/Chocolate Point' 'Red/Red' 'Silver/Red' 'Blue Smoke' 'Blue/Tortie'\n",
      " 'Blue/Orange' 'Tricolor/Calico' 'Orange Tabby/Black'\n",
      " 'Orange Tabby/Tortie Point' 'Seal Point/Brown' 'Brown Merle/Blue Merle'\n",
      " 'Tan/Red Tick' 'Black/Silver Tabby' 'Brown/Black Tabby' 'Tortie/Brown'\n",
      " 'Brown Merle/Brown' 'Black/Black Tabby' 'Brown/Green'\n",
      " 'Orange/Orange Tabby' 'Tortie Point/Lynx Point' 'Black/Pink'\n",
      " 'Silver/Cream' 'Orange Tabby/Apricot' 'Black Tabby/Orange' 'Blue/Yellow'\n",
      " 'Sable/Gray' 'Blue Tabby/Orange' 'Cream/Brown' 'Tricolor/Brown Merle'\n",
      " 'Tricolor/Brown Brindle' 'Torbie/Blue Tabby' 'Orange Tabby/Cream'\n",
      " 'Tricolor/Gray' 'Green/Gray' 'Lynx Point/Tortie Point'\n",
      " 'Chocolate/Brown Tabby'] \n",
      "\n",
      "intake_condition ['Normal' 'Injured' 'Aged' 'Sick' 'Other' 'Feral' 'Pregnant' 'Nursing'] \n",
      "\n",
      "intake_type ['Stray' 'Public Assist' 'Owner Surrender' 'Euthanasia Request' 'Wildlife'] \n",
      "\n",
      "sex_upon_intake ['Neutered Male' 'Spayed Female' 'Intact Female' 'Intact Male' 'Unknown'] \n",
      "\n",
      "count [1] \n",
      "\n",
      "age_upon_intake_(days) [3650 2555 2190 5840 5475 6570 5110 6205 4745 6935 4380 7300 4015 3285\n",
      " 1825 2920 1095 1460  365  330  270  730  240  300  210  150  180   90\n",
      "  120   60    7   21    0   28   30   14    3    4    2    1   35    5\n",
      "    6 8030] \n",
      "\n",
      "age_upon_intake_(years) [1.00000000e+01 7.00000000e+00 6.00000000e+00 1.60000000e+01\n",
      " 1.50000000e+01 1.80000000e+01 1.40000000e+01 1.70000000e+01\n",
      " 1.30000000e+01 1.90000000e+01 1.20000000e+01 2.00000000e+01\n",
      " 1.10000000e+01 9.00000000e+00 5.00000000e+00 8.00000000e+00\n",
      " 3.00000000e+00 4.00000000e+00 1.00000000e+00 9.04109589e-01\n",
      " 7.39726027e-01 2.00000000e+00 6.57534247e-01 8.21917808e-01\n",
      " 5.75342466e-01 4.10958904e-01 4.93150685e-01 2.46575342e-01\n",
      " 3.28767123e-01 1.64383562e-01 1.91780822e-02 5.75342466e-02\n",
      " 0.00000000e+00 7.67123288e-02 8.21917808e-02 3.83561644e-02\n",
      " 8.21917808e-03 1.09589041e-02 5.47945205e-03 2.73972603e-03\n",
      " 9.58904110e-02 1.36986301e-02 1.64383562e-02 2.20000000e+01] \n",
      "\n",
      "age_upon_intake_age_group ['(7.5, 10.0]' '(5.0, 7.5]' '(15.0, 17.5]' '(12.5, 15.0]' '(17.5, 20.0]'\n",
      " '(10.0, 12.5]' '(2.5, 5.0]' '(-0.025, 2.5]' '(20.0, 22.5]'] \n",
      "\n",
      "intake_datetime ['2017-12-07 00:00:00' '2014-12-19 10:21:00' '2014-03-07 14:26:00' ...\n",
      " '2016-03-27 11:44:00' '2016-03-27 11:57:00' '2016-03-27 12:01:00'] \n",
      "\n",
      "intake_month [12  3  4 11  9 10  2  8  7  6  5  1] \n",
      "\n",
      "intake_year [2017 2014 2013 2015 2016 2018] \n",
      "\n",
      "intake_monthyear ['2017-12' '2014-12' '2014-03' '2014-04' '2013-11' '2014-11' '2014-09'\n",
      " '2015-09' '2015-11' '2013-10' '2015-02' '2016-09' '2013-12' '2014-08'\n",
      " '2015-04' '2015-10' '2015-03' '2014-07' '2016-06' '2015-05' '2016-08'\n",
      " '2016-03' '2018-01' '2017-10' '2014-01' '2014-10' '2015-06' '2016-01'\n",
      " '2015-08' '2016-12' '2015-07' '2015-01' '2017-04' '2014-06' '2018-03'\n",
      " '2017-11' '2014-02' '2016-11' '2016-04' '2017-06' '2015-12' '2014-05'\n",
      " '2017-03' '2017-02' '2018-02' '2016-05' '2017-05' '2016-02' '2017-08'\n",
      " '2017-07' '2017-09' '2017-01' '2016-10' '2016-07'] \n",
      "\n",
      "intake_weekday ['Thursday' 'Friday' 'Wednesday' 'Saturday' 'Monday' 'Tuesday' 'Sunday'] \n",
      "\n",
      "intake_hour [14 10 15  9 11 17 12 13  7 16 22 18 23  2  8 20 21  4  1 19  0  6  3  5] \n",
      "\n",
      "intake_number [ 1.  2.  3.  4.  5.  6.  7.  8. 10. 11.  9. 12. 13.] \n",
      "\n",
      "time_in_shelter ['0 days 14:07:00.000000000' '1 days 06:14:00.000000000'\n",
      " '1 days 02:44:00.000000000' ... '47 days 21:30:00.000000000'\n",
      " '56 days 07:31:00.000000000' '2 days 07:22:00.000000000'] \n",
      "\n",
      "time_in_shelter_days [ 0.58819444  1.25972222  1.11388889 ... 47.89583333 56.31319444\n",
      "  2.30694444] \n",
      "\n",
      "age_upon_outcome ['10 years' '7 years' '6 years' '16 years' '15 years' '18 years'\n",
      " '14 years' '17 years' '13 years' '19 years' '12 years' '20 years'\n",
      " '11 years' '9 years' '5 years' '8 years' '3 years' '4 years' '1 year'\n",
      " '11 months' '10 months' '2 years' '9 months' '7 months' '8 months'\n",
      " '5 months' '6 months' '3 months' '4 months' '2 months' '1 week' '3 weeks'\n",
      " '1 weeks' '1 day' '1 month' '2 weeks' '3 days' '2 days' '4 weeks'\n",
      " '0 years' '4 days' '5 weeks' '5 days' '6 days' '22 years'] \n",
      "\n",
      "date_of_birth ['2007-07-09 00:00:00' '2004-04-02 00:00:00' '1997-10-16 00:00:00' ...\n",
      " '2006-03-24 00:00:00' '2008-03-25 00:00:00' '2016-03-12 00:00:00'] \n",
      "\n",
      "sex_upon_outcome ['Neutered Male' 'Spayed Female' 'Intact Female' 'Intact Male' 'Unknown'] \n",
      "\n",
      "age_upon_outcome_(days) [3650 2555 2190 5840 5475 6570 5110 6205 4745 6935 4380 7300 4015 3285\n",
      " 1825 2920 1095 1460  365  330  300  730  270  210  240  150  180   90\n",
      "  120   60    7   21    1   30   14    3    2   28    0    4   35    5\n",
      "    6 8030] \n",
      "\n",
      "age_upon_outcome_(years) [1.00000000e+01 7.00000000e+00 6.00000000e+00 1.60000000e+01\n",
      " 1.50000000e+01 1.80000000e+01 1.40000000e+01 1.70000000e+01\n",
      " 1.30000000e+01 1.90000000e+01 1.20000000e+01 2.00000000e+01\n",
      " 1.10000000e+01 9.00000000e+00 5.00000000e+00 8.00000000e+00\n",
      " 3.00000000e+00 4.00000000e+00 1.00000000e+00 9.04109589e-01\n",
      " 8.21917808e-01 2.00000000e+00 7.39726027e-01 5.75342466e-01\n",
      " 6.57534247e-01 4.10958904e-01 4.93150685e-01 2.46575342e-01\n",
      " 3.28767123e-01 1.64383562e-01 1.91780822e-02 5.75342466e-02\n",
      " 2.73972603e-03 8.21917808e-02 3.83561644e-02 8.21917808e-03\n",
      " 5.47945205e-03 7.67123288e-02 0.00000000e+00 1.09589041e-02\n",
      " 9.58904110e-02 1.36986301e-02 1.64383562e-02 2.20000000e+01] \n",
      "\n",
      "age_upon_outcome_age_group ['(7.5, 10.0]' '(5.0, 7.5]' '(15.0, 17.5]' '(12.5, 15.0]' '(17.5, 20.0]'\n",
      " '(10.0, 12.5]' '(2.5, 5.0]' '(-0.025, 2.5]' '(20.0, 22.5]'] \n",
      "\n",
      "outcome_month [12  3  4 11  9  2 10  8  7  6  1  5] \n",
      "\n",
      "outcome_year [2017 2014 2013 2015 2016 2018] \n",
      "\n",
      "outcome_monthyear ['2017-12' '2014-12' '2014-03' '2014-04' '2013-11' '2014-11' '2014-09'\n",
      " '2015-09' '2015-11' '2015-02' '2016-10' '2013-12' '2014-08' '2015-04'\n",
      " '2013-10' '2015-10' '2015-03' '2014-07' '2016-06' '2014-01' '2015-05'\n",
      " '2016-11' '2016-03' '2018-01' '2017-10' '2014-10' '2015-06' '2016-01'\n",
      " '2015-08' '2017-01' '2014-05' '2015-07' '2015-01' '2017-04' '2018-03'\n",
      " '2017-11' '2016-04' '2017-06' '2016-09' '2015-12' '2014-06' '2017-03'\n",
      " '2017-02' '2016-05' '2018-02' '2017-05' '2016-02' '2017-09' '2016-08'\n",
      " '2017-07' '2017-08' '2014-02' '2016-12' '2016-07' '2018-04'] \n",
      "\n",
      "outcome_weekday ['Thursday' 'Saturday' 'Monday' 'Sunday' 'Friday' 'Tuesday' 'Wednesday'] \n",
      "\n",
      "outcome_hour [ 0 16 17 15 11 19 13  9 12 14 18 10  8  7 23 22  3  5  6 21  2 20  1] \n",
      "\n",
      "outcome_number [ 1.  2.  3.  4.  5.  6.  7.  8. 10. 11.  9. 12. 13.] \n",
      "\n",
      "outcome_type ['Return to Owner' 'Missing' 'Transfer' 'Adoption' 'Euthanasia'\n",
      " 'Rto-Adopt' 'Relocate' 'Died' 'Disposal'] \n",
      "\n"
     ]
    }
   ],
   "source": [
    "for c in data.columns:\n",
    "    print(c, data[c].unique(), \"\\n\")"
   ]
  },
  {
   "cell_type": "code",
   "execution_count": 0,
   "metadata": {
    "colab": {},
    "colab_type": "code",
    "id": "ejnq7tN5ayDz"
   },
   "outputs": [],
   "source": [
    "data.drop(['age_upon_intake', 'count', 'age_upon_intake_(years)',\n",
    "           'intake_datetime', 'intake_monthyear', 'time_in_shelter',\n",
    "           'age_upon_outcome', 'date_of_birth', 'age_upon_outcome_(years)',\n",
    "           'outcome_monthyear'], axis=1, inplace=True)"
   ]
  },
  {
   "cell_type": "code",
   "execution_count": 15,
   "metadata": {
    "colab": {
     "base_uri": "https://localhost:8080/",
     "height": 88
    },
    "colab_type": "code",
    "id": "10nBGAceayD2",
    "outputId": "a2a27a35-13b8-4568-b26a-5158f2d1de21"
   },
   "outputs": [
    {
     "name": "stdout",
     "output_type": "stream",
     "text": [
      "Category Columns:  ['animal_type', 'breed', 'color', 'intake_condition', 'intake_type', 'sex_upon_intake', 'age_upon_intake_age_group', 'intake_weekday', 'sex_upon_outcome', 'age_upon_outcome_age_group', 'outcome_weekday', 'outcome_type'] \n",
      "\n",
      "Numerical Columns:  ['dob_year', 'dob_month', 'age_upon_intake_(days)', 'intake_month', 'intake_year', 'intake_hour', 'intake_number', 'time_in_shelter_days', 'age_upon_outcome_(days)', 'outcome_month', 'outcome_year', 'outcome_hour', 'outcome_number']\n"
     ]
    }
   ],
   "source": [
    "categoryColumns = []\n",
    "numericalColumns = []\n",
    "for col in data.columns:\n",
    "    if data[col].dtype == 'object':\n",
    "        categoryColumns.append(col)\n",
    "    else:\n",
    "        numericalColumns.append(col)\n",
    "print('Category Columns: ',categoryColumns, '\\n')\n",
    "print('Numerical Columns: ',numericalColumns)"
   ]
  },
  {
   "cell_type": "code",
   "execution_count": 16,
   "metadata": {
    "colab": {
     "base_uri": "https://localhost:8080/",
     "height": 444
    },
    "colab_type": "code",
    "id": "3fe_IuQhayD5",
    "outputId": "f150e2f1-855c-4f51-d668-d48034c228fd"
   },
   "outputs": [
    {
     "data": {
      "text/html": [
       "<div>\n",
       "<style scoped>\n",
       "    .dataframe tbody tr th:only-of-type {\n",
       "        vertical-align: middle;\n",
       "    }\n",
       "\n",
       "    .dataframe tbody tr th {\n",
       "        vertical-align: top;\n",
       "    }\n",
       "\n",
       "    .dataframe thead th {\n",
       "        text-align: right;\n",
       "    }\n",
       "</style>\n",
       "<table border=\"1\" class=\"dataframe\">\n",
       "  <thead>\n",
       "    <tr style=\"text-align: right;\">\n",
       "      <th></th>\n",
       "      <th>dob_year</th>\n",
       "      <th>dob_month</th>\n",
       "      <th>animal_type</th>\n",
       "      <th>breed</th>\n",
       "      <th>color</th>\n",
       "      <th>intake_condition</th>\n",
       "      <th>intake_type</th>\n",
       "      <th>sex_upon_intake</th>\n",
       "      <th>age_upon_intake_(days)</th>\n",
       "      <th>age_upon_intake_age_group</th>\n",
       "      <th>intake_month</th>\n",
       "      <th>intake_year</th>\n",
       "      <th>intake_weekday</th>\n",
       "      <th>intake_hour</th>\n",
       "      <th>intake_number</th>\n",
       "      <th>time_in_shelter_days</th>\n",
       "      <th>sex_upon_outcome</th>\n",
       "      <th>age_upon_outcome_(days)</th>\n",
       "      <th>age_upon_outcome_age_group</th>\n",
       "      <th>outcome_month</th>\n",
       "      <th>outcome_year</th>\n",
       "      <th>outcome_weekday</th>\n",
       "      <th>outcome_hour</th>\n",
       "      <th>outcome_number</th>\n",
       "      <th>outcome_type</th>\n",
       "    </tr>\n",
       "  </thead>\n",
       "  <tbody>\n",
       "    <tr>\n",
       "      <th>count</th>\n",
       "      <td>47803.000000</td>\n",
       "      <td>47803.000000</td>\n",
       "      <td>47803</td>\n",
       "      <td>47803</td>\n",
       "      <td>47803</td>\n",
       "      <td>47803</td>\n",
       "      <td>47803</td>\n",
       "      <td>47803</td>\n",
       "      <td>47803.000000</td>\n",
       "      <td>47803</td>\n",
       "      <td>47803.000000</td>\n",
       "      <td>47803.000000</td>\n",
       "      <td>47803</td>\n",
       "      <td>47803.000000</td>\n",
       "      <td>47803.000000</td>\n",
       "      <td>47803.000000</td>\n",
       "      <td>47803</td>\n",
       "      <td>47803.000000</td>\n",
       "      <td>47803</td>\n",
       "      <td>47803.000000</td>\n",
       "      <td>47803.000000</td>\n",
       "      <td>47803</td>\n",
       "      <td>47803.000000</td>\n",
       "      <td>47803.000000</td>\n",
       "      <td>47803</td>\n",
       "    </tr>\n",
       "    <tr>\n",
       "      <th>unique</th>\n",
       "      <td>NaN</td>\n",
       "      <td>NaN</td>\n",
       "      <td>4</td>\n",
       "      <td>1847</td>\n",
       "      <td>443</td>\n",
       "      <td>8</td>\n",
       "      <td>5</td>\n",
       "      <td>5</td>\n",
       "      <td>NaN</td>\n",
       "      <td>9</td>\n",
       "      <td>NaN</td>\n",
       "      <td>NaN</td>\n",
       "      <td>7</td>\n",
       "      <td>NaN</td>\n",
       "      <td>NaN</td>\n",
       "      <td>NaN</td>\n",
       "      <td>5</td>\n",
       "      <td>NaN</td>\n",
       "      <td>9</td>\n",
       "      <td>NaN</td>\n",
       "      <td>NaN</td>\n",
       "      <td>7</td>\n",
       "      <td>NaN</td>\n",
       "      <td>NaN</td>\n",
       "      <td>9</td>\n",
       "    </tr>\n",
       "    <tr>\n",
       "      <th>top</th>\n",
       "      <td>NaN</td>\n",
       "      <td>NaN</td>\n",
       "      <td>Dog</td>\n",
       "      <td>Domestic Shorthair Mix</td>\n",
       "      <td>Black/White</td>\n",
       "      <td>Normal</td>\n",
       "      <td>Stray</td>\n",
       "      <td>Intact Male</td>\n",
       "      <td>NaN</td>\n",
       "      <td>(-0.025, 2.5]</td>\n",
       "      <td>NaN</td>\n",
       "      <td>NaN</td>\n",
       "      <td>Saturday</td>\n",
       "      <td>NaN</td>\n",
       "      <td>NaN</td>\n",
       "      <td>NaN</td>\n",
       "      <td>Neutered Male</td>\n",
       "      <td>NaN</td>\n",
       "      <td>(-0.025, 2.5]</td>\n",
       "      <td>NaN</td>\n",
       "      <td>NaN</td>\n",
       "      <td>Saturday</td>\n",
       "      <td>NaN</td>\n",
       "      <td>NaN</td>\n",
       "      <td>Adoption</td>\n",
       "    </tr>\n",
       "    <tr>\n",
       "      <th>freq</th>\n",
       "      <td>NaN</td>\n",
       "      <td>NaN</td>\n",
       "      <td>28222</td>\n",
       "      <td>13339</td>\n",
       "      <td>4975</td>\n",
       "      <td>41885</td>\n",
       "      <td>33345</td>\n",
       "      <td>14664</td>\n",
       "      <td>NaN</td>\n",
       "      <td>34049</td>\n",
       "      <td>NaN</td>\n",
       "      <td>NaN</td>\n",
       "      <td>7371</td>\n",
       "      <td>NaN</td>\n",
       "      <td>NaN</td>\n",
       "      <td>NaN</td>\n",
       "      <td>17559</td>\n",
       "      <td>NaN</td>\n",
       "      <td>33895</td>\n",
       "      <td>NaN</td>\n",
       "      <td>NaN</td>\n",
       "      <td>7628</td>\n",
       "      <td>NaN</td>\n",
       "      <td>NaN</td>\n",
       "      <td>12967</td>\n",
       "    </tr>\n",
       "    <tr>\n",
       "      <th>mean</th>\n",
       "      <td>2012.197728</td>\n",
       "      <td>6.337531</td>\n",
       "      <td>NaN</td>\n",
       "      <td>NaN</td>\n",
       "      <td>NaN</td>\n",
       "      <td>NaN</td>\n",
       "      <td>NaN</td>\n",
       "      <td>NaN</td>\n",
       "      <td>841.679915</td>\n",
       "      <td>NaN</td>\n",
       "      <td>6.596113</td>\n",
       "      <td>2014.600046</td>\n",
       "      <td>NaN</td>\n",
       "      <td>13.549087</td>\n",
       "      <td>1.144552</td>\n",
       "      <td>17.143366</td>\n",
       "      <td>NaN</td>\n",
       "      <td>855.319729</td>\n",
       "      <td>NaN</td>\n",
       "      <td>6.650587</td>\n",
       "      <td>2014.638893</td>\n",
       "      <td>NaN</td>\n",
       "      <td>14.381545</td>\n",
       "      <td>1.144552</td>\n",
       "      <td>NaN</td>\n",
       "    </tr>\n",
       "    <tr>\n",
       "      <th>std</th>\n",
       "      <td>3.068255</td>\n",
       "      <td>3.342038</td>\n",
       "      <td>NaN</td>\n",
       "      <td>NaN</td>\n",
       "      <td>NaN</td>\n",
       "      <td>NaN</td>\n",
       "      <td>NaN</td>\n",
       "      <td>NaN</td>\n",
       "      <td>1100.557953</td>\n",
       "      <td>NaN</td>\n",
       "      <td>3.460172</td>\n",
       "      <td>0.905731</td>\n",
       "      <td>NaN</td>\n",
       "      <td>3.179397</td>\n",
       "      <td>0.500055</td>\n",
       "      <td>46.600727</td>\n",
       "      <td>NaN</td>\n",
       "      <td>1103.598596</td>\n",
       "      <td>NaN</td>\n",
       "      <td>3.490263</td>\n",
       "      <td>0.912706</td>\n",
       "      <td>NaN</td>\n",
       "      <td>3.456145</td>\n",
       "      <td>0.500055</td>\n",
       "      <td>NaN</td>\n",
       "    </tr>\n",
       "    <tr>\n",
       "      <th>min</th>\n",
       "      <td>1992.000000</td>\n",
       "      <td>1.000000</td>\n",
       "      <td>NaN</td>\n",
       "      <td>NaN</td>\n",
       "      <td>NaN</td>\n",
       "      <td>NaN</td>\n",
       "      <td>NaN</td>\n",
       "      <td>NaN</td>\n",
       "      <td>0.000000</td>\n",
       "      <td>NaN</td>\n",
       "      <td>1.000000</td>\n",
       "      <td>2013.000000</td>\n",
       "      <td>NaN</td>\n",
       "      <td>0.000000</td>\n",
       "      <td>1.000000</td>\n",
       "      <td>0.000694</td>\n",
       "      <td>NaN</td>\n",
       "      <td>0.000000</td>\n",
       "      <td>NaN</td>\n",
       "      <td>1.000000</td>\n",
       "      <td>2013.000000</td>\n",
       "      <td>NaN</td>\n",
       "      <td>0.000000</td>\n",
       "      <td>1.000000</td>\n",
       "      <td>NaN</td>\n",
       "    </tr>\n",
       "    <tr>\n",
       "      <th>25%</th>\n",
       "      <td>2011.000000</td>\n",
       "      <td>4.000000</td>\n",
       "      <td>NaN</td>\n",
       "      <td>NaN</td>\n",
       "      <td>NaN</td>\n",
       "      <td>NaN</td>\n",
       "      <td>NaN</td>\n",
       "      <td>NaN</td>\n",
       "      <td>60.000000</td>\n",
       "      <td>NaN</td>\n",
       "      <td>4.000000</td>\n",
       "      <td>2014.000000</td>\n",
       "      <td>NaN</td>\n",
       "      <td>11.000000</td>\n",
       "      <td>1.000000</td>\n",
       "      <td>1.049653</td>\n",
       "      <td>NaN</td>\n",
       "      <td>90.000000</td>\n",
       "      <td>NaN</td>\n",
       "      <td>4.000000</td>\n",
       "      <td>2014.000000</td>\n",
       "      <td>NaN</td>\n",
       "      <td>12.000000</td>\n",
       "      <td>1.000000</td>\n",
       "      <td>NaN</td>\n",
       "    </tr>\n",
       "    <tr>\n",
       "      <th>50%</th>\n",
       "      <td>2013.000000</td>\n",
       "      <td>6.000000</td>\n",
       "      <td>NaN</td>\n",
       "      <td>NaN</td>\n",
       "      <td>NaN</td>\n",
       "      <td>NaN</td>\n",
       "      <td>NaN</td>\n",
       "      <td>NaN</td>\n",
       "      <td>365.000000</td>\n",
       "      <td>NaN</td>\n",
       "      <td>7.000000</td>\n",
       "      <td>2015.000000</td>\n",
       "      <td>NaN</td>\n",
       "      <td>13.000000</td>\n",
       "      <td>1.000000</td>\n",
       "      <td>4.972222</td>\n",
       "      <td>NaN</td>\n",
       "      <td>365.000000</td>\n",
       "      <td>NaN</td>\n",
       "      <td>7.000000</td>\n",
       "      <td>2015.000000</td>\n",
       "      <td>NaN</td>\n",
       "      <td>15.000000</td>\n",
       "      <td>1.000000</td>\n",
       "      <td>NaN</td>\n",
       "    </tr>\n",
       "    <tr>\n",
       "      <th>75%</th>\n",
       "      <td>2014.000000</td>\n",
       "      <td>9.000000</td>\n",
       "      <td>NaN</td>\n",
       "      <td>NaN</td>\n",
       "      <td>NaN</td>\n",
       "      <td>NaN</td>\n",
       "      <td>NaN</td>\n",
       "      <td>NaN</td>\n",
       "      <td>1095.000000</td>\n",
       "      <td>NaN</td>\n",
       "      <td>10.000000</td>\n",
       "      <td>2015.000000</td>\n",
       "      <td>NaN</td>\n",
       "      <td>16.000000</td>\n",
       "      <td>1.000000</td>\n",
       "      <td>13.113889</td>\n",
       "      <td>NaN</td>\n",
       "      <td>1095.000000</td>\n",
       "      <td>NaN</td>\n",
       "      <td>10.000000</td>\n",
       "      <td>2015.000000</td>\n",
       "      <td>NaN</td>\n",
       "      <td>17.000000</td>\n",
       "      <td>1.000000</td>\n",
       "      <td>NaN</td>\n",
       "    </tr>\n",
       "    <tr>\n",
       "      <th>max</th>\n",
       "      <td>2016.000000</td>\n",
       "      <td>12.000000</td>\n",
       "      <td>NaN</td>\n",
       "      <td>NaN</td>\n",
       "      <td>NaN</td>\n",
       "      <td>NaN</td>\n",
       "      <td>NaN</td>\n",
       "      <td>NaN</td>\n",
       "      <td>8030.000000</td>\n",
       "      <td>NaN</td>\n",
       "      <td>12.000000</td>\n",
       "      <td>2018.000000</td>\n",
       "      <td>NaN</td>\n",
       "      <td>23.000000</td>\n",
       "      <td>13.000000</td>\n",
       "      <td>1606.194444</td>\n",
       "      <td>NaN</td>\n",
       "      <td>8030.000000</td>\n",
       "      <td>NaN</td>\n",
       "      <td>12.000000</td>\n",
       "      <td>2018.000000</td>\n",
       "      <td>NaN</td>\n",
       "      <td>23.000000</td>\n",
       "      <td>13.000000</td>\n",
       "      <td>NaN</td>\n",
       "    </tr>\n",
       "  </tbody>\n",
       "</table>\n",
       "</div>"
      ],
      "text/plain": [
       "            dob_year     dob_month  ... outcome_number outcome_type\n",
       "count   47803.000000  47803.000000  ...   47803.000000        47803\n",
       "unique           NaN           NaN  ...            NaN            9\n",
       "top              NaN           NaN  ...            NaN     Adoption\n",
       "freq             NaN           NaN  ...            NaN        12967\n",
       "mean     2012.197728      6.337531  ...       1.144552          NaN\n",
       "std         3.068255      3.342038  ...       0.500055          NaN\n",
       "min      1992.000000      1.000000  ...       1.000000          NaN\n",
       "25%      2011.000000      4.000000  ...       1.000000          NaN\n",
       "50%      2013.000000      6.000000  ...       1.000000          NaN\n",
       "75%      2014.000000      9.000000  ...       1.000000          NaN\n",
       "max      2016.000000     12.000000  ...      13.000000          NaN\n",
       "\n",
       "[11 rows x 25 columns]"
      ]
     },
     "execution_count": 16,
     "metadata": {
      "tags": []
     },
     "output_type": "execute_result"
    }
   ],
   "source": [
    "data.describe(include = 'all')"
   ]
  },
  {
   "cell_type": "code",
   "execution_count": 17,
   "metadata": {
    "colab": {
     "base_uri": "https://localhost:8080/",
     "height": 224
    },
    "colab_type": "code",
    "id": "tcKjWxW9ayD-",
    "outputId": "c8911be9-70ee-4327-fb8a-1f8867186304"
   },
   "outputs": [
    {
     "data": {
      "text/html": [
       "<div>\n",
       "<style scoped>\n",
       "    .dataframe tbody tr th:only-of-type {\n",
       "        vertical-align: middle;\n",
       "    }\n",
       "\n",
       "    .dataframe tbody tr th {\n",
       "        vertical-align: top;\n",
       "    }\n",
       "\n",
       "    .dataframe thead th {\n",
       "        text-align: right;\n",
       "    }\n",
       "</style>\n",
       "<table border=\"1\" class=\"dataframe\">\n",
       "  <thead>\n",
       "    <tr style=\"text-align: right;\">\n",
       "      <th></th>\n",
       "      <th>dob_year</th>\n",
       "      <th>dob_month</th>\n",
       "      <th>animal_type</th>\n",
       "      <th>breed</th>\n",
       "      <th>color</th>\n",
       "      <th>intake_condition</th>\n",
       "      <th>intake_type</th>\n",
       "      <th>sex_upon_intake</th>\n",
       "      <th>age_upon_intake_(days)</th>\n",
       "      <th>age_upon_intake_age_group</th>\n",
       "      <th>intake_month</th>\n",
       "      <th>intake_year</th>\n",
       "      <th>intake_weekday</th>\n",
       "      <th>intake_hour</th>\n",
       "      <th>intake_number</th>\n",
       "      <th>time_in_shelter_days</th>\n",
       "      <th>sex_upon_outcome</th>\n",
       "      <th>age_upon_outcome_(days)</th>\n",
       "      <th>age_upon_outcome_age_group</th>\n",
       "      <th>outcome_month</th>\n",
       "      <th>outcome_year</th>\n",
       "      <th>outcome_weekday</th>\n",
       "      <th>outcome_hour</th>\n",
       "      <th>outcome_number</th>\n",
       "      <th>outcome_type</th>\n",
       "    </tr>\n",
       "  </thead>\n",
       "  <tbody>\n",
       "    <tr>\n",
       "      <th>0</th>\n",
       "      <td>2007</td>\n",
       "      <td>7</td>\n",
       "      <td>2</td>\n",
       "      <td>1707</td>\n",
       "      <td>441</td>\n",
       "      <td>3</td>\n",
       "      <td>3</td>\n",
       "      <td>2</td>\n",
       "      <td>3650</td>\n",
       "      <td>8</td>\n",
       "      <td>12</td>\n",
       "      <td>2017</td>\n",
       "      <td>4</td>\n",
       "      <td>14</td>\n",
       "      <td>1.0</td>\n",
       "      <td>0.588194</td>\n",
       "      <td>2</td>\n",
       "      <td>3650</td>\n",
       "      <td>8</td>\n",
       "      <td>12</td>\n",
       "      <td>2017</td>\n",
       "      <td>4</td>\n",
       "      <td>0</td>\n",
       "      <td>1.0</td>\n",
       "      <td>6</td>\n",
       "    </tr>\n",
       "    <tr>\n",
       "      <th>1</th>\n",
       "      <td>2007</td>\n",
       "      <td>7</td>\n",
       "      <td>2</td>\n",
       "      <td>1707</td>\n",
       "      <td>441</td>\n",
       "      <td>3</td>\n",
       "      <td>2</td>\n",
       "      <td>2</td>\n",
       "      <td>2555</td>\n",
       "      <td>7</td>\n",
       "      <td>12</td>\n",
       "      <td>2014</td>\n",
       "      <td>0</td>\n",
       "      <td>10</td>\n",
       "      <td>2.0</td>\n",
       "      <td>1.259722</td>\n",
       "      <td>2</td>\n",
       "      <td>2555</td>\n",
       "      <td>7</td>\n",
       "      <td>12</td>\n",
       "      <td>2014</td>\n",
       "      <td>2</td>\n",
       "      <td>16</td>\n",
       "      <td>2.0</td>\n",
       "      <td>6</td>\n",
       "    </tr>\n",
       "    <tr>\n",
       "      <th>2</th>\n",
       "      <td>2007</td>\n",
       "      <td>7</td>\n",
       "      <td>2</td>\n",
       "      <td>1707</td>\n",
       "      <td>441</td>\n",
       "      <td>3</td>\n",
       "      <td>2</td>\n",
       "      <td>2</td>\n",
       "      <td>2190</td>\n",
       "      <td>7</td>\n",
       "      <td>3</td>\n",
       "      <td>2014</td>\n",
       "      <td>0</td>\n",
       "      <td>14</td>\n",
       "      <td>3.0</td>\n",
       "      <td>1.113889</td>\n",
       "      <td>2</td>\n",
       "      <td>2190</td>\n",
       "      <td>7</td>\n",
       "      <td>3</td>\n",
       "      <td>2014</td>\n",
       "      <td>2</td>\n",
       "      <td>17</td>\n",
       "      <td>3.0</td>\n",
       "      <td>6</td>\n",
       "    </tr>\n",
       "    <tr>\n",
       "      <th>3</th>\n",
       "      <td>2004</td>\n",
       "      <td>4</td>\n",
       "      <td>2</td>\n",
       "      <td>718</td>\n",
       "      <td>375</td>\n",
       "      <td>3</td>\n",
       "      <td>1</td>\n",
       "      <td>2</td>\n",
       "      <td>3650</td>\n",
       "      <td>8</td>\n",
       "      <td>4</td>\n",
       "      <td>2014</td>\n",
       "      <td>6</td>\n",
       "      <td>15</td>\n",
       "      <td>1.0</td>\n",
       "      <td>4.970139</td>\n",
       "      <td>2</td>\n",
       "      <td>3650</td>\n",
       "      <td>8</td>\n",
       "      <td>4</td>\n",
       "      <td>2014</td>\n",
       "      <td>1</td>\n",
       "      <td>15</td>\n",
       "      <td>1.0</td>\n",
       "      <td>4</td>\n",
       "    </tr>\n",
       "    <tr>\n",
       "      <th>4</th>\n",
       "      <td>1997</td>\n",
       "      <td>10</td>\n",
       "      <td>2</td>\n",
       "      <td>1618</td>\n",
       "      <td>154</td>\n",
       "      <td>2</td>\n",
       "      <td>2</td>\n",
       "      <td>2</td>\n",
       "      <td>5840</td>\n",
       "      <td>3</td>\n",
       "      <td>11</td>\n",
       "      <td>2013</td>\n",
       "      <td>2</td>\n",
       "      <td>9</td>\n",
       "      <td>1.0</td>\n",
       "      <td>0.119444</td>\n",
       "      <td>2</td>\n",
       "      <td>5840</td>\n",
       "      <td>3</td>\n",
       "      <td>11</td>\n",
       "      <td>2013</td>\n",
       "      <td>2</td>\n",
       "      <td>11</td>\n",
       "      <td>1.0</td>\n",
       "      <td>6</td>\n",
       "    </tr>\n",
       "  </tbody>\n",
       "</table>\n",
       "</div>"
      ],
      "text/plain": [
       "   dob_year  dob_month  animal_type  ...  outcome_hour  outcome_number  outcome_type\n",
       "0      2007          7            2  ...             0             1.0             6\n",
       "1      2007          7            2  ...            16             2.0             6\n",
       "2      2007          7            2  ...            17             3.0             6\n",
       "3      2004          4            2  ...            15             1.0             4\n",
       "4      1997         10            2  ...            11             1.0             6\n",
       "\n",
       "[5 rows x 25 columns]"
      ]
     },
     "execution_count": 17,
     "metadata": {
      "tags": []
     },
     "output_type": "execute_result"
    }
   ],
   "source": [
    "le = preprocessing.LabelEncoder() \n",
    "data[categoryColumns] = data[categoryColumns].apply(le.fit_transform)\n",
    "\n",
    "data.head()"
   ]
  },
  {
   "cell_type": "code",
   "execution_count": 18,
   "metadata": {
    "colab": {
     "base_uri": "https://localhost:8080/",
     "height": 736
    },
    "colab_type": "code",
    "id": "9OVW6QtWayEA",
    "outputId": "6736f574-9062-4aae-b023-a42be2e9fdbd"
   },
   "outputs": [
    {
     "data": {
      "text/plain": [
       "<matplotlib.axes._subplots.AxesSubplot at 0x7f9a9a9eda58>"
      ]
     },
     "execution_count": 18,
     "metadata": {
      "tags": []
     },
     "output_type": "execute_result"
    },
    {
     "data": {
      "image/png": "[encoded data removed]",
      "text/plain": [
       "<Figure size 864x720 with 2 Axes>"
      ]
     },
     "metadata": {
      "tags": []
     },
     "output_type": "display_data"
    }
   ],
   "source": [
    "corrmat = data[numericalColumns].corr() \n",
    "  \n",
    "f, ax = plt.subplots(figsize =(12, 10)) \n",
    "sns.heatmap(corrmat, ax = ax, cmap =\"YlGnBu\", linewidths = 0.1, annot=True)"
   ]
  },
  {
   "cell_type": "code",
   "execution_count": 0,
   "metadata": {
    "colab": {},
    "colab_type": "code",
    "id": "qPbYmbRVayEF"
   },
   "outputs": [],
   "source": [
    "data.drop(['dob_year', 'age_upon_intake_(days)', 'intake_month', 'intake_year', 'intake_number'], axis=1, inplace=True)"
   ]
  },
  {
   "cell_type": "code",
   "execution_count": 20,
   "metadata": {
    "colab": {
     "base_uri": "https://localhost:8080/",
     "height": 757
    },
    "colab_type": "code",
    "id": "wgAbQPf8ayEi",
    "outputId": "55257cec-24b5-4c2b-f96f-fd7b6fcbd8cb"
   },
   "outputs": [
    {
     "data": {
      "text/plain": [
       "<matplotlib.axes._subplots.AxesSubplot at 0x7f9a968a6630>"
      ]
     },
     "execution_count": 20,
     "metadata": {
      "tags": []
     },
     "output_type": "execute_result"
    },
    {
     "data": {
      "image/png": "[encoded data removed]",
      "text/plain": [
       "<Figure size 864x720 with 2 Axes>"
      ]
     },
     "metadata": {
      "tags": []
     },
     "output_type": "display_data"
    }
   ],
   "source": [
    "corrmat = data[categoryColumns].corr() \n",
    "  \n",
    "f, ax = plt.subplots(figsize =(12, 10)) \n",
    "sns.heatmap(corrmat, ax = ax, cmap =\"YlGnBu\", linewidths = 0.1, annot=True)"
   ]
  },
  {
   "cell_type": "code",
   "execution_count": 0,
   "metadata": {
    "colab": {},
    "colab_type": "code",
    "id": "gXMHtlw3ayEl"
   },
   "outputs": [],
   "source": [
    "data.drop(['age_upon_intake_age_group'], axis=1, inplace=True)"
   ]
  },
  {
   "cell_type": "code",
   "execution_count": 22,
   "metadata": {
    "colab": {
     "base_uri": "https://localhost:8080/",
     "height": 224
    },
    "colab_type": "code",
    "id": "n9Z0rSGxayEo",
    "outputId": "73858f7a-6a98-47bc-e115-aa59bb68e2e1"
   },
   "outputs": [
    {
     "data": {
      "text/html": [
       "<div>\n",
       "<style scoped>\n",
       "    .dataframe tbody tr th:only-of-type {\n",
       "        vertical-align: middle;\n",
       "    }\n",
       "\n",
       "    .dataframe tbody tr th {\n",
       "        vertical-align: top;\n",
       "    }\n",
       "\n",
       "    .dataframe thead th {\n",
       "        text-align: right;\n",
       "    }\n",
       "</style>\n",
       "<table border=\"1\" class=\"dataframe\">\n",
       "  <thead>\n",
       "    <tr style=\"text-align: right;\">\n",
       "      <th></th>\n",
       "      <th>dob_month</th>\n",
       "      <th>animal_type</th>\n",
       "      <th>breed</th>\n",
       "      <th>color</th>\n",
       "      <th>intake_condition</th>\n",
       "      <th>intake_type</th>\n",
       "      <th>sex_upon_intake</th>\n",
       "      <th>intake_weekday</th>\n",
       "      <th>intake_hour</th>\n",
       "      <th>time_in_shelter_days</th>\n",
       "      <th>sex_upon_outcome</th>\n",
       "      <th>age_upon_outcome_(days)</th>\n",
       "      <th>age_upon_outcome_age_group</th>\n",
       "      <th>outcome_month</th>\n",
       "      <th>outcome_year</th>\n",
       "      <th>outcome_weekday</th>\n",
       "      <th>outcome_hour</th>\n",
       "      <th>outcome_number</th>\n",
       "      <th>outcome_type</th>\n",
       "    </tr>\n",
       "  </thead>\n",
       "  <tbody>\n",
       "    <tr>\n",
       "      <th>0</th>\n",
       "      <td>7</td>\n",
       "      <td>2</td>\n",
       "      <td>1707</td>\n",
       "      <td>441</td>\n",
       "      <td>3</td>\n",
       "      <td>3</td>\n",
       "      <td>2</td>\n",
       "      <td>4</td>\n",
       "      <td>14</td>\n",
       "      <td>0.588194</td>\n",
       "      <td>2</td>\n",
       "      <td>3650</td>\n",
       "      <td>8</td>\n",
       "      <td>12</td>\n",
       "      <td>2017</td>\n",
       "      <td>4</td>\n",
       "      <td>0</td>\n",
       "      <td>1.0</td>\n",
       "      <td>6</td>\n",
       "    </tr>\n",
       "    <tr>\n",
       "      <th>1</th>\n",
       "      <td>7</td>\n",
       "      <td>2</td>\n",
       "      <td>1707</td>\n",
       "      <td>441</td>\n",
       "      <td>3</td>\n",
       "      <td>2</td>\n",
       "      <td>2</td>\n",
       "      <td>0</td>\n",
       "      <td>10</td>\n",
       "      <td>1.259722</td>\n",
       "      <td>2</td>\n",
       "      <td>2555</td>\n",
       "      <td>7</td>\n",
       "      <td>12</td>\n",
       "      <td>2014</td>\n",
       "      <td>2</td>\n",
       "      <td>16</td>\n",
       "      <td>2.0</td>\n",
       "      <td>6</td>\n",
       "    </tr>\n",
       "    <tr>\n",
       "      <th>2</th>\n",
       "      <td>7</td>\n",
       "      <td>2</td>\n",
       "      <td>1707</td>\n",
       "      <td>441</td>\n",
       "      <td>3</td>\n",
       "      <td>2</td>\n",
       "      <td>2</td>\n",
       "      <td>0</td>\n",
       "      <td>14</td>\n",
       "      <td>1.113889</td>\n",
       "      <td>2</td>\n",
       "      <td>2190</td>\n",
       "      <td>7</td>\n",
       "      <td>3</td>\n",
       "      <td>2014</td>\n",
       "      <td>2</td>\n",
       "      <td>17</td>\n",
       "      <td>3.0</td>\n",
       "      <td>6</td>\n",
       "    </tr>\n",
       "    <tr>\n",
       "      <th>3</th>\n",
       "      <td>4</td>\n",
       "      <td>2</td>\n",
       "      <td>718</td>\n",
       "      <td>375</td>\n",
       "      <td>3</td>\n",
       "      <td>1</td>\n",
       "      <td>2</td>\n",
       "      <td>6</td>\n",
       "      <td>15</td>\n",
       "      <td>4.970139</td>\n",
       "      <td>2</td>\n",
       "      <td>3650</td>\n",
       "      <td>8</td>\n",
       "      <td>4</td>\n",
       "      <td>2014</td>\n",
       "      <td>1</td>\n",
       "      <td>15</td>\n",
       "      <td>1.0</td>\n",
       "      <td>4</td>\n",
       "    </tr>\n",
       "    <tr>\n",
       "      <th>4</th>\n",
       "      <td>10</td>\n",
       "      <td>2</td>\n",
       "      <td>1618</td>\n",
       "      <td>154</td>\n",
       "      <td>2</td>\n",
       "      <td>2</td>\n",
       "      <td>2</td>\n",
       "      <td>2</td>\n",
       "      <td>9</td>\n",
       "      <td>0.119444</td>\n",
       "      <td>2</td>\n",
       "      <td>5840</td>\n",
       "      <td>3</td>\n",
       "      <td>11</td>\n",
       "      <td>2013</td>\n",
       "      <td>2</td>\n",
       "      <td>11</td>\n",
       "      <td>1.0</td>\n",
       "      <td>6</td>\n",
       "    </tr>\n",
       "  </tbody>\n",
       "</table>\n",
       "</div>"
      ],
      "text/plain": [
       "   dob_month  animal_type  breed  ...  outcome_hour  outcome_number  outcome_type\n",
       "0          7            2   1707  ...             0             1.0             6\n",
       "1          7            2   1707  ...            16             2.0             6\n",
       "2          7            2   1707  ...            17             3.0             6\n",
       "3          4            2    718  ...            15             1.0             4\n",
       "4         10            2   1618  ...            11             1.0             6\n",
       "\n",
       "[5 rows x 19 columns]"
      ]
     },
     "execution_count": 22,
     "metadata": {
      "tags": []
     },
     "output_type": "execute_result"
    }
   ],
   "source": [
    "data.head()"
   ]
  },
  {
   "cell_type": "code",
   "execution_count": 23,
   "metadata": {
    "colab": {
     "base_uri": "https://localhost:8080/",
     "height": 357
    },
    "colab_type": "code",
    "id": "JYvKpcYhayEq",
    "outputId": "271d622d-47fb-42b0-f332-6ed3c888e62f"
   },
   "outputs": [
    {
     "data": {
      "text/plain": [
       "dob_month                     0.001096\n",
       "animal_type                  -0.056909\n",
       "breed                         0.035457\n",
       "color                         0.007067\n",
       "intake_condition              0.001349\n",
       "intake_type                   0.044011\n",
       "sex_upon_intake               0.072456\n",
       "intake_weekday                0.005095\n",
       "intake_hour                  -0.010710\n",
       "time_in_shelter_days         -0.175702\n",
       "sex_upon_outcome             -0.226853\n",
       "age_upon_outcome_(days)       0.066027\n",
       "age_upon_outcome_age_group    0.062680\n",
       "outcome_month                 0.003434\n",
       "outcome_year                 -0.014785\n",
       "outcome_weekday               0.020882\n",
       "outcome_hour                 -0.162330\n",
       "outcome_number               -0.017799\n",
       "outcome_type                  1.000000\n",
       "Name: outcome_type, dtype: float64"
      ]
     },
     "execution_count": 23,
     "metadata": {
      "tags": []
     },
     "output_type": "execute_result"
    }
   ],
   "source": [
    "data.corr().loc['outcome_type',:]"
   ]
  },
  {
   "cell_type": "code",
   "execution_count": 0,
   "metadata": {
    "colab": {},
    "colab_type": "code",
    "id": "l48slMQrayEw"
   },
   "outputs": [],
   "source": [
    "irrelevant = ['dob_month', 'color', 'intake_weekday', 'outcome_month']\n",
    "data.drop(irrelevant, axis=1, inplace=True)"
   ]
  },
  {
   "cell_type": "code",
   "execution_count": 25,
   "metadata": {
    "colab": {
     "base_uri": "https://localhost:8080/",
     "height": 34
    },
    "colab_type": "code",
    "id": "c-rF66YlayEz",
    "outputId": "718af247-04aa-4fed-cf2b-d7595052bbc6"
   },
   "outputs": [
    {
     "data": {
      "text/plain": [
       "(47803, 15)"
      ]
     },
     "execution_count": 25,
     "metadata": {
      "tags": []
     },
     "output_type": "execute_result"
    }
   ],
   "source": [
    "data.shape"
   ]
  },
  {
   "cell_type": "code",
   "execution_count": 26,
   "metadata": {
    "colab": {
     "base_uri": "https://localhost:8080/",
     "height": 297
    },
    "colab_type": "code",
    "id": "ITvYyLygayE2",
    "outputId": "960b985e-632d-4bdd-da16-816240d3f16a"
   },
   "outputs": [
    {
     "data": {
      "text/plain": [
       "<matplotlib.axes._subplots.AxesSubplot at 0x7f9a94fbfef0>"
      ]
     },
     "execution_count": 26,
     "metadata": {
      "tags": []
     },
     "output_type": "execute_result"
    },
    {
     "data": {
      "image/png": "[encoded data removed]",
      "text/plain": [
       "<Figure size 432x288 with 1 Axes>"
      ]
     },
     "metadata": {
      "tags": []
     },
     "output_type": "display_data"
    }
   ],
   "source": [
    "sns.countplot(data.outcome_type)"
   ]
  },
  {
   "cell_type": "code",
   "execution_count": 0,
   "metadata": {
    "colab": {},
    "colab_type": "code",
    "id": "7EdUON8oayE4"
   },
   "outputs": [],
   "source": [
    "X, y = data.drop('outcome_type',axis=1), data['outcome_type']\n",
    "\n",
    "# sm = SMOTE(random_state=42)\n",
    "# X, y = sm.fit_resample(X, y)\n",
    "# sns.countplot(y)"
   ]
  },
  {
   "cell_type": "code",
   "execution_count": 28,
   "metadata": {
    "colab": {
     "base_uri": "https://localhost:8080/",
     "height": 51
    },
    "colab_type": "code",
    "id": "p4Jj65ZNayE6",
    "outputId": "488c6f05-4b34-49e9-a63f-f3e5b1e1c7dd"
   },
   "outputs": [
    {
     "name": "stdout",
     "output_type": "stream",
     "text": [
      "Train Shape (38242, 14) (38242,)\n",
      "Test Shape (9561, 14) (9561,)\n"
     ]
    }
   ],
   "source": [
    "X_train, X_test, y_train, y_test = train_test_split(X, y, test_size=0.2, random_state=123)\n",
    "\n",
    "print('Train Shape', X_train.shape, y_train.shape)\n",
    "print('Test Shape', X_test.shape, y_test.shape)"
   ]
  },
  {
   "cell_type": "code",
   "execution_count": 0,
   "metadata": {
    "colab": {},
    "colab_type": "code",
    "id": "yzuctviTayE8"
   },
   "outputs": [],
   "source": [
    "# feature_list = ['animal_type', 'breed', 'intake_condition', 'intake_type', 'outcome_number']\n",
    "# MEE_encoder = ce.MEstimateEncoder()\n",
    "# X_train[feature_list] = MEE_encoder.fit_transform(X_train[feature_list], y_train)\n",
    "# X_test[feature_list] = MEE_encoder.transform(X_test[feature_list])"
   ]
  },
  {
   "cell_type": "code",
   "execution_count": 0,
   "metadata": {
    "colab": {},
    "colab_type": "code",
    "id": "L-1Vum1IayE-"
   },
   "outputs": [],
   "source": [
    "target_names = target_names = [''] * 9\n",
    "for val, indx in zip(targets, data.outcome_type.unique()):\n",
    "    target_names[indx] = val"
   ]
  },
  {
   "cell_type": "code",
   "execution_count": 0,
   "metadata": {
    "colab": {},
    "colab_type": "code",
    "id": "hPa-bFeQayFA"
   },
   "outputs": [],
   "source": [
    "def metrices(model):\n",
    "    y_pred = model.predict(X_test)\n",
    "    y_pred_train = model.predict(X_train)\n",
    "    print(classification_report(y_test, y_pred, target_names=target_names))\n",
    "    print('-----------------------------------------')\n",
    "    print('Train - F1-Score (Micro)', f1_score(y_train, y_pred_train, average='micro'))\n",
    "    print('Test - F1-Score (Micro)', f1_score(y_test, y_pred, average='micro'))"
   ]
  },
  {
   "cell_type": "code",
   "execution_count": 0,
   "metadata": {
    "colab": {},
    "colab_type": "code",
    "id": "KzCv9oKnayFC"
   },
   "outputs": [],
   "source": [
    "logReg = LogisticRegression()\n",
    "logReg = logReg.fit(X_train, y_train)"
   ]
  },
  {
   "cell_type": "code",
   "execution_count": 33,
   "metadata": {
    "colab": {
     "base_uri": "https://localhost:8080/",
     "height": 340
    },
    "colab_type": "code",
    "id": "re1lauAaayFD",
    "outputId": "8929e562-664d-431f-d70b-d6e71b8f2da3"
   },
   "outputs": [
    {
     "name": "stdout",
     "output_type": "stream",
     "text": [
      "                 precision    recall  f1-score   support\n",
      "\n",
      "       Adoption       0.46      0.62      0.53      2537\n",
      "           Died       0.00      0.00      0.00       577\n",
      "       Disposal       0.00      0.00      0.00        31\n",
      "     Euthanasia       0.00      0.00      0.00       843\n",
      "        Missing       0.00      0.00      0.00       516\n",
      "       Relocate       0.00      0.00      0.00       509\n",
      "Return to Owner       0.50      0.55      0.52      1952\n",
      "      Rto-Adopt       0.00      0.00      0.00       467\n",
      "       Transfer       0.32      0.59      0.42      2129\n",
      "\n",
      "       accuracy                           0.41      9561\n",
      "      macro avg       0.14      0.20      0.16      9561\n",
      "   weighted avg       0.29      0.41      0.34      9561\n",
      "\n",
      "-----------------------------------------\n",
      "Train - F1-Score (Micro) 0.41119711312169865\n",
      "Test - F1-Score (Micro) 0.41041732036397865\n"
     ]
    }
   ],
   "source": [
    "metrices(logReg)"
   ]
  },
  {
   "cell_type": "code",
   "execution_count": 0,
   "metadata": {
    "colab": {},
    "colab_type": "code",
    "id": "CnAcOvAQayFG"
   },
   "outputs": [],
   "source": [
    "nb = GaussianNB()\n",
    "nb = nb.fit(X_train, y_train)"
   ]
  },
  {
   "cell_type": "code",
   "execution_count": 35,
   "metadata": {
    "colab": {
     "base_uri": "https://localhost:8080/",
     "height": 340
    },
    "colab_type": "code",
    "id": "qxWHuNxgayFI",
    "outputId": "82ccf5b5-414c-4581-94ed-bba6b588bd37"
   },
   "outputs": [
    {
     "name": "stdout",
     "output_type": "stream",
     "text": [
      "                 precision    recall  f1-score   support\n",
      "\n",
      "       Adoption       0.53      0.45      0.48      2537\n",
      "           Died       0.00      0.00      0.00       577\n",
      "       Disposal       0.08      0.74      0.15        31\n",
      "     Euthanasia       0.33      0.39      0.36       843\n",
      "        Missing       0.12      0.00      0.01       516\n",
      "       Relocate       0.00      0.00      0.00       509\n",
      "Return to Owner       0.57      0.59      0.58      1952\n",
      "      Rto-Adopt       0.00      0.00      0.00       467\n",
      "       Transfer       0.36      0.69      0.47      2129\n",
      "\n",
      "       accuracy                           0.43      9561\n",
      "      macro avg       0.22      0.32      0.23      9561\n",
      "   weighted avg       0.37      0.43      0.38      9561\n",
      "\n",
      "-----------------------------------------\n",
      "Train - F1-Score (Micro) 0.4271220124470477\n",
      "Test - F1-Score (Micro) 0.42955757765924074\n"
     ]
    }
   ],
   "source": [
    "metrices(nb)"
   ]
  },
  {
   "cell_type": "code",
   "execution_count": 0,
   "metadata": {
    "colab": {},
    "colab_type": "code",
    "id": "33SVGTCcayFK"
   },
   "outputs": [],
   "source": [
    "DecisionTree = DecisionTreeClassifier(max_depth = 8)\n",
    "DecisionTree = DecisionTree.fit(X_train, y_train)"
   ]
  },
  {
   "cell_type": "code",
   "execution_count": 37,
   "metadata": {
    "colab": {
     "base_uri": "https://localhost:8080/",
     "height": 340
    },
    "colab_type": "code",
    "id": "G0vv2c8nayFO",
    "outputId": "295ea525-76dd-456b-a035-b73345653904"
   },
   "outputs": [
    {
     "name": "stdout",
     "output_type": "stream",
     "text": [
      "                 precision    recall  f1-score   support\n",
      "\n",
      "       Adoption       0.49      0.95      0.65      2537\n",
      "           Died       0.25      0.01      0.01       577\n",
      "       Disposal       0.57      0.26      0.36        31\n",
      "     Euthanasia       0.76      0.63      0.69       843\n",
      "        Missing       0.50      0.00      0.00       516\n",
      "       Relocate       0.14      0.00      0.00       509\n",
      "Return to Owner       0.87      0.80      0.83      1952\n",
      "      Rto-Adopt       0.00      0.00      0.00       467\n",
      "       Transfer       0.60      0.60      0.60      2129\n",
      "\n",
      "       accuracy                           0.61      9561\n",
      "      macro avg       0.47      0.36      0.35      9561\n",
      "   weighted avg       0.56      0.61      0.54      9561\n",
      "\n",
      "-----------------------------------------\n",
      "Train - F1-Score (Micro) 0.6122849223366978\n",
      "Test - F1-Score (Micro) 0.6051668235540215\n"
     ]
    }
   ],
   "source": [
    "metrices(DecisionTree)"
   ]
  },
  {
   "cell_type": "code",
   "execution_count": 0,
   "metadata": {
    "colab": {},
    "colab_type": "code",
    "id": "DKQrhqnFayFQ"
   },
   "outputs": [],
   "source": [
    "knn = KNeighborsClassifier(n_neighbors=30)\n",
    "knn = knn.fit(X_train,y_train)"
   ]
  },
  {
   "cell_type": "code",
   "execution_count": 39,
   "metadata": {
    "colab": {
     "base_uri": "https://localhost:8080/",
     "height": 340
    },
    "colab_type": "code",
    "id": "EZYV6xZqayFT",
    "outputId": "21177614-9bb8-48e1-9cab-de3d8c949133"
   },
   "outputs": [
    {
     "name": "stdout",
     "output_type": "stream",
     "text": [
      "                 precision    recall  f1-score   support\n",
      "\n",
      "       Adoption       0.47      0.74      0.57      2537\n",
      "           Died       0.50      0.00      0.01       577\n",
      "       Disposal       0.50      0.19      0.28        31\n",
      "     Euthanasia       0.64      0.44      0.52       843\n",
      "        Missing       0.00      0.00      0.00       516\n",
      "       Relocate       1.00      0.00      0.00       509\n",
      "Return to Owner       0.52      0.73      0.60      1952\n",
      "      Rto-Adopt       0.00      0.00      0.00       467\n",
      "       Transfer       0.52      0.54      0.53      2129\n",
      "\n",
      "       accuracy                           0.50      9561\n",
      "      macro avg       0.46      0.29      0.28      9561\n",
      "   weighted avg       0.49      0.50      0.44      9561\n",
      "\n",
      "-----------------------------------------\n",
      "Train - F1-Score (Micro) 0.5209194079807541\n",
      "Test - F1-Score (Micro) 0.5044451417215773\n"
     ]
    }
   ],
   "source": [
    "metrices(knn)"
   ]
  },
  {
   "cell_type": "code",
   "execution_count": 0,
   "metadata": {
    "colab": {},
    "colab_type": "code",
    "id": "oQjPdb36ayFV"
   },
   "outputs": [],
   "source": [
    "randomForest = RandomForestClassifier(n_estimators = 27, max_depth= 8, max_features= 7)\n",
    "randomForest = randomForest.fit(X_train, y_train)"
   ]
  },
  {
   "cell_type": "code",
   "execution_count": 41,
   "metadata": {
    "colab": {
     "base_uri": "https://localhost:8080/",
     "height": 295
    },
    "colab_type": "code",
    "id": "k2PwagAaayFW",
    "outputId": "907f46cf-41a6-409e-860c-e58312172f2f"
   },
   "outputs": [
    {
     "data": {
      "image/png": "[encoded data removed]",
      "text/plain": [
       "<Figure size 432x288 with 1 Axes>"
      ]
     },
     "metadata": {
      "tags": []
     },
     "output_type": "display_data"
    }
   ],
   "source": [
    "features = X_train.columns\n",
    "importances = randomForest.feature_importances_\n",
    "indices = np.argsort(importances)\n",
    "\n",
    "plt.title('Feature Importances')\n",
    "plt.barh(range(len(indices)), importances[indices], color='b', align='center')\n",
    "plt.yticks(range(len(indices)), [features[i] for i in indices])\n",
    "plt.xlabel('Relative Importance')\n",
    "plt.show()"
   ]
  },
  {
   "cell_type": "code",
   "execution_count": 42,
   "metadata": {
    "colab": {
     "base_uri": "https://localhost:8080/",
     "height": 340
    },
    "colab_type": "code",
    "id": "ZG7uNZdEayFY",
    "outputId": "6e8b381c-3bce-484d-e4bf-071792d53680"
   },
   "outputs": [
    {
     "name": "stdout",
     "output_type": "stream",
     "text": [
      "                 precision    recall  f1-score   support\n",
      "\n",
      "       Adoption       0.51      0.93      0.66      2537\n",
      "           Died       1.00      0.00      0.00       577\n",
      "       Disposal       0.78      0.23      0.35        31\n",
      "     Euthanasia       0.86      0.62      0.72       843\n",
      "        Missing       0.00      0.00      0.00       516\n",
      "       Relocate       0.00      0.00      0.00       509\n",
      "Return to Owner       0.82      0.83      0.83      1952\n",
      "      Rto-Adopt       0.00      0.00      0.00       467\n",
      "       Transfer       0.59      0.64      0.61      2129\n",
      "\n",
      "       accuracy                           0.61      9561\n",
      "      macro avg       0.51      0.36      0.35      9561\n",
      "   weighted avg       0.57      0.61      0.54      9561\n",
      "\n",
      "-----------------------------------------\n",
      "Train - F1-Score (Micro) 0.620940327388735\n",
      "Test - F1-Score (Micro) 0.614266290137015\n"
     ]
    }
   ],
   "source": [
    "metrices(randomForest)"
   ]
  },
  {
   "cell_type": "code",
   "execution_count": 43,
   "metadata": {
    "colab": {
     "base_uri": "https://localhost:8080/",
     "height": 280
    },
    "colab_type": "code",
    "id": "mHEqkiTEayFa",
    "outputId": "2e4db67e-9d97-4a89-8682-d6ba2bf1210a"
   },
   "outputs": [
    {
     "data": {
      "image/png": "[encoded data removed]",
      "text/plain": [
       "<Figure size 432x288 with 1 Axes>"
      ]
     },
     "metadata": {
      "tags": []
     },
     "output_type": "display_data"
    }
   ],
   "source": [
    "n_estimators = [1, 2, 4, 8, 16, 32, 64, 100, 200]\n",
    "train_results = []\n",
    "test_results = []\n",
    "for estimator in n_estimators:\n",
    "   rf = RandomForestClassifier(n_estimators=estimator, n_jobs=-1)\n",
    "   rf.fit(X_train, y_train)\n",
    "   train_pred = rf.predict(X_train)\n",
    "   roc_auc = f1_score(y_train, train_pred, average='micro')\n",
    "   train_results.append(roc_auc)\n",
    "   y_pred = rf.predict(X_test)\n",
    "   roc_auc = f1_score(y_test, y_pred, average='micro')\n",
    "   test_results.append(roc_auc)\n",
    "from matplotlib.legend_handler import HandlerLine2D\n",
    "line1, = plt.plot(n_estimators, train_results, 'b', label=\"Train F1\")\n",
    "line2, = plt.plot(n_estimators, test_results, 'r', label=\"Test F1\")\n",
    "plt.legend(handler_map={line1: HandlerLine2D(numpoints=2)})\n",
    "plt.ylabel('F1 Score')\n",
    "plt.xlabel('n_estimators')\n",
    "plt.show()"
   ]
  },
  {
   "cell_type": "code",
   "execution_count": 44,
   "metadata": {
    "colab": {
     "base_uri": "https://localhost:8080/",
     "height": 280
    },
    "colab_type": "code",
    "id": "UYVWEY_rayFb",
    "outputId": "6866dec9-ff83-41be-cf26-6752c50c99eb"
   },
   "outputs": [
    {
     "data": {
      "image/png": "[encoded data removed]",
      "text/plain": [
       "<Figure size 432x288 with 1 Axes>"
      ]
     },
     "metadata": {
      "tags": []
     },
     "output_type": "display_data"
    }
   ],
   "source": [
    "max_depths = np.linspace(1, 32, 32, endpoint=True)\n",
    "train_results = []\n",
    "test_results = []\n",
    "\n",
    "for max_depth in max_depths:\n",
    "   rf = RandomForestClassifier(max_depth=max_depth)\n",
    "   rf.fit(X_train, y_train)\n",
    "   train_pred = rf.predict(X_train)\n",
    "   roc_auc = f1_score(y_train, train_pred, average='micro')\n",
    "   train_results.append(roc_auc)\n",
    "   y_pred = rf.predict(X_test)\n",
    "   roc_auc = f1_score(y_test, y_pred, average='micro')\n",
    "   test_results.append(roc_auc)\n",
    "\n",
    "from matplotlib.legend_handler import HandlerLine2D\n",
    "line1, = plt.plot(max_depths, train_results, 'b', label=\"Train F1\")\n",
    "line2, = plt.plot(max_depths, test_results, 'r', label=\"Test F1\")\n",
    "plt.legend(handler_map={line1: HandlerLine2D(numpoints=2)})\n",
    "plt.ylabel('F1 Score')\n",
    "plt.xlabel('max_depths')\n",
    "plt.show()"
   ]
  },
  {
   "cell_type": "code",
   "execution_count": 45,
   "metadata": {
    "colab": {
     "base_uri": "https://localhost:8080/",
     "height": 280
    },
    "colab_type": "code",
    "id": "516zXtKEayFd",
    "outputId": "ceb36cfd-4afa-4a9f-c1f3-03dff4261142"
   },
   "outputs": [
    {
     "data": {
      "image/png": "[encoded data removed]",
      "text/plain": [
       "<Figure size 432x288 with 1 Axes>"
      ]
     },
     "metadata": {
      "tags": []
     },
     "output_type": "display_data"
    }
   ],
   "source": [
    "min_samples_splits = np.linspace(0.1, 1.0, 10, endpoint=True)\n",
    "train_results = []\n",
    "test_results = []\n",
    "for min_samples_split in min_samples_splits:\n",
    "   rf = RandomForestClassifier(min_samples_split=min_samples_split)\n",
    "   rf.fit(X_train, y_train)\n",
    "   train_pred = rf.predict(X_train)\n",
    "   roc_auc = f1_score(y_train, train_pred, average='micro')\n",
    "   train_results.append(roc_auc)\n",
    "   y_pred = rf.predict(X_test)\n",
    "   roc_auc = f1_score(y_test, y_pred, average='micro')\n",
    "   test_results.append(roc_auc)\n",
    "\n",
    "from matplotlib.legend_handler import HandlerLine2D\n",
    "line1, = plt.plot(min_samples_splits, train_results, 'b', label=\"Train F1\")\n",
    "line2, = plt.plot(min_samples_splits, test_results, 'r', label=\"Test F1\")\n",
    "plt.legend(handler_map={line1: HandlerLine2D(numpoints=2)})\n",
    "plt.ylabel('F1 Score')\n",
    "plt.xlabel('min_samples_splits')\n",
    "plt.show()"
   ]
  },
  {
   "cell_type": "code",
   "execution_count": 46,
   "metadata": {
    "colab": {
     "base_uri": "https://localhost:8080/",
     "height": 283
    },
    "colab_type": "code",
    "id": "QMImwUjqayFe",
    "outputId": "c707ca7f-ec05-4392-ffe7-045bc2777e66"
   },
   "outputs": [
    {
     "data": {
      "image/png": "[encoded data removed]",
      "text/plain": [
       "<Figure size 432x288 with 1 Axes>"
      ]
     },
     "metadata": {
      "tags": []
     },
     "output_type": "display_data"
    }
   ],
   "source": [
    "min_samples_leafs = np.linspace(0.1, 0.5, 5, endpoint=True)\n",
    "train_results = []\n",
    "test_results = []\n",
    "for min_samples_leaf in min_samples_leafs:\n",
    "   rf = RandomForestClassifier(min_samples_leaf=min_samples_leaf)\n",
    "   rf.fit(X_train, y_train)\n",
    "   train_pred = rf.predict(X_train)\n",
    "   roc_auc = f1_score(y_train, train_pred, average='micro')\n",
    "   train_results.append(roc_auc)\n",
    "   y_pred = rf.predict(X_test)\n",
    "   roc_auc = f1_score(y_test, y_pred, average='micro')\n",
    "   test_results.append(roc_auc)\n",
    "\n",
    "from matplotlib.legend_handler import HandlerLine2D\n",
    "line1, = plt.plot(min_samples_leafs, train_results, 'b', label=\"Train F1\")\n",
    "line2, = plt.plot(min_samples_leafs, test_results, 'r', label=\"Test F1\")\n",
    "plt.legend(handler_map={line1: HandlerLine2D(numpoints=2)})\n",
    "plt.ylabel('F1 Score')\n",
    "plt.xlabel('min_samples_leafs')\n",
    "plt.show()"
   ]
  },
  {
   "cell_type": "code",
   "execution_count": 47,
   "metadata": {
    "colab": {
     "base_uri": "https://localhost:8080/",
     "height": 282
    },
    "colab_type": "code",
    "id": "JS8FMVeTayFg",
    "outputId": "97453467-0874-4d36-a6c3-bba1ba20dc92"
   },
   "outputs": [
    {
     "data": {
      "image/png": "[encoded data removed]",
      "text/plain": [
       "<Figure size 432x288 with 1 Axes>"
      ]
     },
     "metadata": {
      "tags": []
     },
     "output_type": "display_data"
    }
   ],
   "source": [
    "max_features = list(range(1,X_train.shape[1]))\n",
    "train_results = []\n",
    "test_results = []\n",
    "for max_feature in max_features:\n",
    "   rf = RandomForestClassifier(max_features=max_feature)\n",
    "   rf.fit(X_train, y_train)\n",
    "   train_pred = rf.predict(X_train)\n",
    "   roc_auc = f1_score(y_train, train_pred, average='micro')\n",
    "   train_results.append(roc_auc)\n",
    "   y_pred = rf.predict(X_test)\n",
    "   roc_auc = f1_score(y_test, y_pred, average='micro')\n",
    "   test_results.append(roc_auc)\n",
    "\n",
    "from matplotlib.legend_handler import HandlerLine2D\n",
    "line1, = plt.plot(max_features, train_results, 'b', label=\"Train F1\")\n",
    "line2, = plt.plot(max_features, test_results, 'r', label=\"Test F1\")\n",
    "plt.legend(handler_map={line1: HandlerLine2D(numpoints=2)})\n",
    "plt.ylabel('F1 Score')\n",
    "plt.xlabel('max_features')\n",
    "plt.show()"
   ]
  },
  {
   "cell_type": "code",
   "execution_count": 0,
   "metadata": {
    "colab": {},
    "colab_type": "code",
    "id": "XZnaqWLtayFi"
   },
   "outputs": [],
   "source": [
    "gradientBoosting = GradientBoostingClassifier()\n",
    "gradientBoosting = gradientBoosting.fit(X_train, y_train)"
   ]
  },
  {
   "cell_type": "code",
   "execution_count": 49,
   "metadata": {
    "colab": {
     "base_uri": "https://localhost:8080/",
     "height": 340
    },
    "colab_type": "code",
    "id": "59hEoEBrayFk",
    "outputId": "0cb5c47e-a725-45f6-d58c-b7af2d6d1f25"
   },
   "outputs": [
    {
     "name": "stdout",
     "output_type": "stream",
     "text": [
      "                 precision    recall  f1-score   support\n",
      "\n",
      "       Adoption       0.54      0.90      0.67      2537\n",
      "           Died       0.32      0.01      0.03       577\n",
      "       Disposal       0.76      0.42      0.54        31\n",
      "     Euthanasia       0.81      0.66      0.73       843\n",
      "        Missing       0.33      0.00      0.00       516\n",
      "       Relocate       0.00      0.00      0.00       509\n",
      "Return to Owner       0.85      0.83      0.84      1952\n",
      "      Rto-Adopt       0.00      0.00      0.00       467\n",
      "       Transfer       0.56      0.71      0.63      2129\n",
      "\n",
      "       accuracy                           0.63      9561\n",
      "      macro avg       0.47      0.39      0.38      9561\n",
      "   weighted avg       0.55      0.63      0.56      9561\n",
      "\n",
      "-----------------------------------------\n",
      "Train - F1-Score (Micro) 0.6351916740756237\n",
      "Test - F1-Score (Micro) 0.6267126869574312\n"
     ]
    }
   ],
   "source": [
    "metrices(gradientBoosting)"
   ]
  },
  {
   "cell_type": "code",
   "execution_count": 0,
   "metadata": {
    "colab": {},
    "colab_type": "code",
    "id": "--3VUil9ayFm"
   },
   "outputs": [],
   "source": [
    "xgb = XGBClassifier()\n",
    "xgb = xgb.fit(X_train, y_train)"
   ]
  },
  {
   "cell_type": "code",
   "execution_count": 51,
   "metadata": {
    "colab": {
     "base_uri": "https://localhost:8080/",
     "height": 340
    },
    "colab_type": "code",
    "id": "X-tQajqMayFn",
    "outputId": "d678473b-f739-49bc-92c2-8b93f5b30df1"
   },
   "outputs": [
    {
     "name": "stdout",
     "output_type": "stream",
     "text": [
      "                 precision    recall  f1-score   support\n",
      "\n",
      "       Adoption       0.52      0.93      0.67      2537\n",
      "           Died       0.29      0.00      0.01       577\n",
      "       Disposal       0.82      0.29      0.43        31\n",
      "     Euthanasia       0.82      0.64      0.72       843\n",
      "        Missing       0.00      0.00      0.00       516\n",
      "       Relocate       0.00      0.00      0.00       509\n",
      "Return to Owner       0.86      0.82      0.84      1952\n",
      "      Rto-Adopt       0.00      0.00      0.00       467\n",
      "       Transfer       0.58      0.67      0.62      2129\n",
      "\n",
      "       accuracy                           0.62      9561\n",
      "      macro avg       0.43      0.37      0.36      9561\n",
      "   weighted avg       0.53      0.62      0.55      9561\n",
      "\n",
      "-----------------------------------------\n",
      "Train - F1-Score (Micro) 0.622692327807123\n",
      "Test - F1-Score (Micro) 0.6222152494508942\n"
     ]
    }
   ],
   "source": [
    "metrices(xgb)"
   ]
  },
  {
   "cell_type": "code",
   "execution_count": 52,
   "metadata": {
    "colab": {
     "base_uri": "https://localhost:8080/",
     "height": 266
    },
    "colab_type": "code",
    "id": "y_U3WUp7ayFp",
    "outputId": "ea164f39-c01b-4b4c-8d74-32269bab0084"
   },
   "outputs": [
    {
     "data": {
      "text/html": [
       "<div>\n",
       "<style scoped>\n",
       "    .dataframe tbody tr th:only-of-type {\n",
       "        vertical-align: middle;\n",
       "    }\n",
       "\n",
       "    .dataframe tbody tr th {\n",
       "        vertical-align: top;\n",
       "    }\n",
       "\n",
       "    .dataframe thead th {\n",
       "        text-align: right;\n",
       "    }\n",
       "</style>\n",
       "<table border=\"1\" class=\"dataframe\">\n",
       "  <thead>\n",
       "    <tr style=\"text-align: right;\">\n",
       "      <th></th>\n",
       "      <th>models</th>\n",
       "      <th>F1-Score (Micro)</th>\n",
       "    </tr>\n",
       "  </thead>\n",
       "  <tbody>\n",
       "    <tr>\n",
       "      <th>5</th>\n",
       "      <td>Gradient Boosting Trees</td>\n",
       "      <td>0.626713</td>\n",
       "    </tr>\n",
       "    <tr>\n",
       "      <th>6</th>\n",
       "      <td>XGBClassifier</td>\n",
       "      <td>0.622215</td>\n",
       "    </tr>\n",
       "    <tr>\n",
       "      <th>4</th>\n",
       "      <td>Random Forest</td>\n",
       "      <td>0.614266</td>\n",
       "    </tr>\n",
       "    <tr>\n",
       "      <th>2</th>\n",
       "      <td>Decision Tree</td>\n",
       "      <td>0.605167</td>\n",
       "    </tr>\n",
       "    <tr>\n",
       "      <th>3</th>\n",
       "      <td>KNN</td>\n",
       "      <td>0.504445</td>\n",
       "    </tr>\n",
       "    <tr>\n",
       "      <th>1</th>\n",
       "      <td>Naive Bayes</td>\n",
       "      <td>0.429558</td>\n",
       "    </tr>\n",
       "    <tr>\n",
       "      <th>0</th>\n",
       "      <td>Logistic Regression</td>\n",
       "      <td>0.410417</td>\n",
       "    </tr>\n",
       "  </tbody>\n",
       "</table>\n",
       "</div>"
      ],
      "text/plain": [
       "                    models  F1-Score (Micro)\n",
       "5  Gradient Boosting Trees          0.626713\n",
       "6            XGBClassifier          0.622215\n",
       "4            Random Forest          0.614266\n",
       "2            Decision Tree          0.605167\n",
       "3                      KNN          0.504445\n",
       "1              Naive Bayes          0.429558\n",
       "0      Logistic Regression          0.410417"
      ]
     },
     "execution_count": 52,
     "metadata": {
      "tags": []
     },
     "output_type": "execute_result"
    }
   ],
   "source": [
    "def sort_metrics(model):\n",
    "    y_pred = model.predict(X_test)\n",
    "    return f1_score(y_test, y_pred, average='micro')\n",
    "\n",
    "models = pd.DataFrame({\n",
    "    'models': [\n",
    "    'Logistic Regression', \n",
    "    'Naive Bayes',\n",
    "    'Decision Tree',\n",
    "    'KNN',\n",
    "    'Random Forest',\n",
    "    'Gradient Boosting Trees',\n",
    "    'XGBClassifier'\n",
    "],\n",
    "    \n",
    "'F1-Score (Micro)': [\n",
    "    sort_metrics(logReg),\n",
    "    sort_metrics(nb),\n",
    "    sort_metrics(DecisionTree),\n",
    "    sort_metrics(knn),\n",
    "    sort_metrics(randomForest),\n",
    "    sort_metrics(gradientBoosting),\n",
    "    sort_metrics(xgb)\n",
    "    \n",
    "],\n",
    "\n",
    "})\n",
    "models.sort_values(by='F1-Score (Micro)', ascending=False)"
   ]
  },
  {
   "cell_type": "code",
   "execution_count": 0,
   "metadata": {
    "colab": {},
    "colab_type": "code",
    "id": "bFEJ0jZgayFr"
   },
   "outputs": [],
   "source": [
    "from sklearn.model_selection import GridSearchCV,RandomizedSearchCV"
   ]
  },
  {
   "cell_type": "code",
   "execution_count": 54,
   "metadata": {
    "colab": {
     "base_uri": "https://localhost:8080/",
     "height": 374
    },
    "colab_type": "code",
    "id": "jd2XOtlPayFs",
    "outputId": "fca90416-3b42-455e-b8db-872fa35f4ee2"
   },
   "outputs": [
    {
     "name": "stdout",
     "output_type": "stream",
     "text": [
      "CPU times: user 25.4 s, sys: 914 ms, total: 26.3 s\n",
      "Wall time: 26.4 s\n",
      "              precision    recall  f1-score   support\n",
      "\n",
      "           0     0.5401    0.8833    0.6704      2537\n",
      "           1     0.2381    0.0173    0.0323       577\n",
      "           2     0.5000    0.2581    0.3404        31\n",
      "           3     0.8152    0.6489    0.7226       843\n",
      "           4     0.1034    0.0058    0.0110       516\n",
      "           5     0.0571    0.0039    0.0074       509\n",
      "           6     0.8539    0.8412    0.8475      1952\n",
      "           7     0.0455    0.0021    0.0041       467\n",
      "           8     0.5688    0.7144    0.6334      2129\n",
      "\n",
      "    accuracy                         0.6249      9561\n",
      "   macro avg     0.4136    0.3750    0.3632      9561\n",
      "weighted avg     0.5430    0.6249    0.5599      9561\n",
      "\n",
      "CPU times: user 1h 20min 20s, sys: 30.2 s, total: 1h 20min 50s\n",
      "Wall time: 1h 20min 55s\n",
      "0.6266147371521751 {'learning_rate': 0.1, 'max_depth': 5, 'n_estimators': 100}\n"
     ]
    }
   ],
   "source": [
    "GBM_model = GradientBoostingClassifier(n_estimators=50,\n",
    "                                       learning_rate=0.3,\n",
    "                                       subsample=0.8)\n",
    "\n",
    "%time GBM_model.fit(X=X_train, y=y_train)\n",
    "\n",
    "y_pred = GBM_model.predict(X_test)\n",
    "\n",
    "\n",
    "print(classification_report(y_test,y_pred,digits=4))\n",
    "\n",
    "from sklearn.model_selection import GridSearchCV\n",
    "\n",
    "# Model in use\n",
    "GBM = GradientBoostingClassifier() \n",
    " \n",
    "# Use a grid over parameters of interest\n",
    "param_grid = { \n",
    "           \"n_estimators\" : [100,150],\n",
    "           \"max_depth\" : [5, 10],\n",
    "           \"learning_rate\" : [0.1,0.2]}\n",
    " \n",
    "CV_GBM = GridSearchCV(estimator=GBM, param_grid=param_grid, cv= 5)\n",
    "\n",
    "%time CV_GBM.fit(X=X_train, y=y_train)\n",
    "\n",
    "# Find best model\n",
    "best_gbm_model = CV_GBM.best_estimator_\n",
    "print (CV_GBM.best_score_, CV_GBM.best_params_)"
   ]
  },
  {
   "cell_type": "code",
   "execution_count": 55,
   "metadata": {
    "colab": {
     "base_uri": "https://localhost:8080/",
     "height": 340
    },
    "colab_type": "code",
    "id": "v-fx9TUDayFu",
    "outputId": "d4d4e6e1-54ab-4dcb-eded-da307e2bb29c"
   },
   "outputs": [
    {
     "name": "stdout",
     "output_type": "stream",
     "text": [
      "                 precision    recall  f1-score   support\n",
      "\n",
      "       Adoption       0.55      0.89      0.68      2537\n",
      "           Died       0.33      0.02      0.04       577\n",
      "       Disposal       0.65      0.42      0.51        31\n",
      "     Euthanasia       0.80      0.69      0.74       843\n",
      "        Missing       0.11      0.00      0.01       516\n",
      "       Relocate       0.12      0.00      0.01       509\n",
      "Return to Owner       0.86      0.84      0.85      1952\n",
      "      Rto-Adopt       0.04      0.00      0.00       467\n",
      "       Transfer       0.58      0.73      0.64      2129\n",
      "\n",
      "       accuracy                           0.64      9561\n",
      "      macro avg       0.45      0.40      0.39      9561\n",
      "   weighted avg       0.56      0.64      0.57      9561\n",
      "\n",
      "-----------------------------------------\n",
      "Train - F1-Score (Micro) 0.6731865488206684\n",
      "Test - F1-Score (Micro) 0.6352891956908273\n"
     ]
    }
   ],
   "source": [
    "metrices(best_gbm_model)"
   ]
  },
  {
   "cell_type": "code",
   "execution_count": 56,
   "metadata": {
    "colab": {
     "base_uri": "https://localhost:8080/",
     "height": 102
    },
    "colab_type": "code",
    "id": "AXxvkWyUayFv",
    "outputId": "62935f44-5088-41d3-820c-d544bdb4f5ea"
   },
   "outputs": [
    {
     "name": "stdout",
     "output_type": "stream",
     "text": [
      "CPU times: user 1min 14s, sys: 173 ms, total: 1min 14s\n",
      "Wall time: 1min 14s\n",
      "CPU times: user 39min 14s, sys: 4.33 s, total: 39min 18s\n",
      "Wall time: 39min 21s\n",
      "0.6352962780649218 {'colsample_bytree': 0.5, 'max_depth': 10, 'n_estimators': 100}\n"
     ]
    }
   ],
   "source": [
    "XGB_model = XGBClassifier(n_estimators=500, gamma=0.5,learning_rate=0.1)\n",
    "%time XGB_model.fit(X_train, y_train)\n",
    "y_pred = XGB_model.predict(X_test)\n",
    "\n",
    "XGB = XGBClassifier(n_jobs=-1)\n",
    " \n",
    "# Use a grid over parameters of interest\n",
    "param_grid = {\n",
    "     'colsample_bytree': np.linspace(0.5, 0.9, 2),\n",
    "     'n_estimators':[100],\n",
    "     'max_depth': [10, 15]\n",
    "}\n",
    "\n",
    " \n",
    "CV_XGB = GridSearchCV(estimator=XGB, param_grid=param_grid, cv= 10)\n",
    "\n",
    "%time CV_XGB.fit(X = X_train, y=y_train)\n",
    "\n",
    "# Find best model\n",
    "best_xgb_model = CV_XGB.best_estimator_\n",
    "print (CV_XGB.best_score_, CV_XGB.best_params_)"
   ]
  },
  {
   "cell_type": "code",
   "execution_count": 57,
   "metadata": {
    "colab": {
     "base_uri": "https://localhost:8080/",
     "height": 340
    },
    "colab_type": "code",
    "id": "o5JuWdnTayFx",
    "outputId": "361d75e6-56bb-4efe-d6ec-8e6a99e451b1"
   },
   "outputs": [
    {
     "name": "stdout",
     "output_type": "stream",
     "text": [
      "                 precision    recall  f1-score   support\n",
      "\n",
      "       Adoption       0.55      0.90      0.68      2537\n",
      "           Died       0.37      0.02      0.04       577\n",
      "       Disposal       0.80      0.39      0.52        31\n",
      "     Euthanasia       0.81      0.69      0.75       843\n",
      "        Missing       0.00      0.00      0.00       516\n",
      "       Relocate       0.00      0.00      0.00       509\n",
      "Return to Owner       0.85      0.86      0.85      1952\n",
      "      Rto-Adopt       0.12      0.00      0.00       467\n",
      "       Transfer       0.60      0.74      0.66      2129\n",
      "\n",
      "       accuracy                           0.64      9561\n",
      "      macro avg       0.46      0.40      0.39      9561\n",
      "   weighted avg       0.55      0.64      0.57      9561\n",
      "\n",
      "-----------------------------------------\n",
      "Train - F1-Score (Micro) 0.7400763558391298\n",
      "Test - F1-Score (Micro) 0.6431335634347871\n"
     ]
    }
   ],
   "source": [
    "metrices(best_xgb_model)"
   ]
  },
  {
   "cell_type": "code",
   "execution_count": 0,
   "metadata": {
    "colab": {},
    "colab_type": "code",
    "id": "Ij-0BTziayFz"
   },
   "outputs": [],
   "source": [
    "rfc = RandomForestClassifier(n_jobs=-1, max_features='sqrt') \n",
    " \n",
    "# Use a grid over parameters of interest\n",
    "param_grid = { \n",
    "           \"n_estimators\" : [9, 18, 27, 36, 45, 54, 63],\n",
    "           \"max_depth\" : [2,3,5,7],\n",
    "           \"min_samples_leaf\" : [2, 4]}\n",
    "scores = ['f1_micro']"
   ]
  },
  {
   "cell_type": "code",
   "execution_count": 59,
   "metadata": {
    "colab": {
     "base_uri": "https://localhost:8080/",
     "height": 1000
    },
    "colab_type": "code",
    "id": "ut6hAJEYayF0",
    "outputId": "08b529fa-4d15-4450-b031-fff4d282f784"
   },
   "outputs": [
    {
     "name": "stdout",
     "output_type": "stream",
     "text": [
      "# Tuning hyper-parameters for f1_micro\n",
      "\n",
      "Best parameters set found on development set:\n",
      "\n",
      "{'max_depth': 7, 'min_samples_leaf': 4, 'n_estimators': 36}\n",
      "\n",
      "Grid scores on development set:\n",
      "\n",
      "0.497 (+/-0.062) for {'max_depth': 2, 'min_samples_leaf': 2, 'n_estimators': 9}\n",
      "0.519 (+/-0.029) for {'max_depth': 2, 'min_samples_leaf': 2, 'n_estimators': 18}\n",
      "0.525 (+/-0.008) for {'max_depth': 2, 'min_samples_leaf': 2, 'n_estimators': 27}\n",
      "0.527 (+/-0.025) for {'max_depth': 2, 'min_samples_leaf': 2, 'n_estimators': 36}\n",
      "0.530 (+/-0.006) for {'max_depth': 2, 'min_samples_leaf': 2, 'n_estimators': 45}\n",
      "0.532 (+/-0.003) for {'max_depth': 2, 'min_samples_leaf': 2, 'n_estimators': 54}\n",
      "0.531 (+/-0.004) for {'max_depth': 2, 'min_samples_leaf': 2, 'n_estimators': 63}\n",
      "0.522 (+/-0.009) for {'max_depth': 2, 'min_samples_leaf': 4, 'n_estimators': 9}\n",
      "0.515 (+/-0.019) for {'max_depth': 2, 'min_samples_leaf': 4, 'n_estimators': 18}\n",
      "0.521 (+/-0.019) for {'max_depth': 2, 'min_samples_leaf': 4, 'n_estimators': 27}\n",
      "0.524 (+/-0.018) for {'max_depth': 2, 'min_samples_leaf': 4, 'n_estimators': 36}\n",
      "0.531 (+/-0.012) for {'max_depth': 2, 'min_samples_leaf': 4, 'n_estimators': 45}\n",
      "0.533 (+/-0.007) for {'max_depth': 2, 'min_samples_leaf': 4, 'n_estimators': 54}\n",
      "0.529 (+/-0.014) for {'max_depth': 2, 'min_samples_leaf': 4, 'n_estimators': 63}\n",
      "0.529 (+/-0.019) for {'max_depth': 3, 'min_samples_leaf': 2, 'n_estimators': 9}\n",
      "0.534 (+/-0.007) for {'max_depth': 3, 'min_samples_leaf': 2, 'n_estimators': 18}\n",
      "0.541 (+/-0.011) for {'max_depth': 3, 'min_samples_leaf': 2, 'n_estimators': 27}\n",
      "0.542 (+/-0.015) for {'max_depth': 3, 'min_samples_leaf': 2, 'n_estimators': 36}\n",
      "0.545 (+/-0.019) for {'max_depth': 3, 'min_samples_leaf': 2, 'n_estimators': 45}\n",
      "0.538 (+/-0.007) for {'max_depth': 3, 'min_samples_leaf': 2, 'n_estimators': 54}\n",
      "0.540 (+/-0.011) for {'max_depth': 3, 'min_samples_leaf': 2, 'n_estimators': 63}\n",
      "0.533 (+/-0.008) for {'max_depth': 3, 'min_samples_leaf': 4, 'n_estimators': 9}\n",
      "0.531 (+/-0.014) for {'max_depth': 3, 'min_samples_leaf': 4, 'n_estimators': 18}\n",
      "0.536 (+/-0.010) for {'max_depth': 3, 'min_samples_leaf': 4, 'n_estimators': 27}\n",
      "0.544 (+/-0.014) for {'max_depth': 3, 'min_samples_leaf': 4, 'n_estimators': 36}\n",
      "0.543 (+/-0.017) for {'max_depth': 3, 'min_samples_leaf': 4, 'n_estimators': 45}\n",
      "0.536 (+/-0.007) for {'max_depth': 3, 'min_samples_leaf': 4, 'n_estimators': 54}\n",
      "0.538 (+/-0.007) for {'max_depth': 3, 'min_samples_leaf': 4, 'n_estimators': 63}\n",
      "0.565 (+/-0.019) for {'max_depth': 5, 'min_samples_leaf': 2, 'n_estimators': 9}\n",
      "0.570 (+/-0.009) for {'max_depth': 5, 'min_samples_leaf': 2, 'n_estimators': 18}\n",
      "0.572 (+/-0.005) for {'max_depth': 5, 'min_samples_leaf': 2, 'n_estimators': 27}\n",
      "0.566 (+/-0.006) for {'max_depth': 5, 'min_samples_leaf': 2, 'n_estimators': 36}\n",
      "0.570 (+/-0.011) for {'max_depth': 5, 'min_samples_leaf': 2, 'n_estimators': 45}\n",
      "0.571 (+/-0.006) for {'max_depth': 5, 'min_samples_leaf': 2, 'n_estimators': 54}\n",
      "0.571 (+/-0.007) for {'max_depth': 5, 'min_samples_leaf': 2, 'n_estimators': 63}\n",
      "0.565 (+/-0.017) for {'max_depth': 5, 'min_samples_leaf': 4, 'n_estimators': 9}\n",
      "0.567 (+/-0.007) for {'max_depth': 5, 'min_samples_leaf': 4, 'n_estimators': 18}\n",
      "0.565 (+/-0.010) for {'max_depth': 5, 'min_samples_leaf': 4, 'n_estimators': 27}\n",
      "0.571 (+/-0.011) for {'max_depth': 5, 'min_samples_leaf': 4, 'n_estimators': 36}\n",
      "0.568 (+/-0.014) for {'max_depth': 5, 'min_samples_leaf': 4, 'n_estimators': 45}\n",
      "0.572 (+/-0.007) for {'max_depth': 5, 'min_samples_leaf': 4, 'n_estimators': 54}\n",
      "0.572 (+/-0.009) for {'max_depth': 5, 'min_samples_leaf': 4, 'n_estimators': 63}\n",
      "0.588 (+/-0.013) for {'max_depth': 7, 'min_samples_leaf': 2, 'n_estimators': 9}\n",
      "0.591 (+/-0.006) for {'max_depth': 7, 'min_samples_leaf': 2, 'n_estimators': 18}\n",
      "0.591 (+/-0.004) for {'max_depth': 7, 'min_samples_leaf': 2, 'n_estimators': 27}\n",
      "0.592 (+/-0.011) for {'max_depth': 7, 'min_samples_leaf': 2, 'n_estimators': 36}\n",
      "0.592 (+/-0.006) for {'max_depth': 7, 'min_samples_leaf': 2, 'n_estimators': 45}\n",
      "0.591 (+/-0.003) for {'max_depth': 7, 'min_samples_leaf': 2, 'n_estimators': 54}\n",
      "0.592 (+/-0.008) for {'max_depth': 7, 'min_samples_leaf': 2, 'n_estimators': 63}\n",
      "0.587 (+/-0.006) for {'max_depth': 7, 'min_samples_leaf': 4, 'n_estimators': 9}\n",
      "0.591 (+/-0.005) for {'max_depth': 7, 'min_samples_leaf': 4, 'n_estimators': 18}\n",
      "0.593 (+/-0.006) for {'max_depth': 7, 'min_samples_leaf': 4, 'n_estimators': 27}\n",
      "0.593 (+/-0.006) for {'max_depth': 7, 'min_samples_leaf': 4, 'n_estimators': 36}\n",
      "0.592 (+/-0.009) for {'max_depth': 7, 'min_samples_leaf': 4, 'n_estimators': 45}\n",
      "0.593 (+/-0.010) for {'max_depth': 7, 'min_samples_leaf': 4, 'n_estimators': 54}\n",
      "0.591 (+/-0.010) for {'max_depth': 7, 'min_samples_leaf': 4, 'n_estimators': 63}\n",
      "\n",
      "Detailed classification report:\n",
      "\n",
      "The model is trained on the full development set.\n",
      "The scores are computed on the full evaluation set.\n",
      "\n",
      "              precision    recall  f1-score   support\n",
      "\n",
      "           0       0.49      0.93      0.64      2537\n",
      "           1       0.00      0.00      0.00       577\n",
      "           2       1.00      0.19      0.32        31\n",
      "           3       0.88      0.55      0.68       843\n",
      "           4       0.00      0.00      0.00       516\n",
      "           5       0.00      0.00      0.00       509\n",
      "           6       0.77      0.81      0.79      1952\n",
      "           7       0.00      0.00      0.00       467\n",
      "           8       0.59      0.61      0.60      2129\n",
      "\n",
      "    accuracy                           0.60      9561\n",
      "   macro avg       0.41      0.34      0.34      9561\n",
      "weighted avg       0.50      0.60      0.53      9561\n",
      "\n",
      "\n"
     ]
    }
   ],
   "source": [
    "for score in scores:\n",
    "    print(\"# Tuning hyper-parameters for %s\" % score)\n",
    "    print()\n",
    "\n",
    "    clf = GridSearchCV(estimator=rfc, param_grid=param_grid,cv=5,\n",
    "                       scoring='%s' % score)\n",
    "    clf.fit(X_train, y_train)\n",
    "\n",
    "    print(\"Best parameters set found on development set:\")\n",
    "    print()\n",
    "    print(clf.best_params_)\n",
    "    print()\n",
    "    print(\"Grid scores on development set:\")\n",
    "    print()\n",
    "    means = clf.cv_results_['mean_test_score']\n",
    "    stds = clf.cv_results_['std_test_score']\n",
    "    for mean, std, params in zip(means, stds, clf.cv_results_['params']):\n",
    "        print(\"%0.3f (+/-%0.03f) for %r\"\n",
    "              % (mean, std * 2, params))\n",
    "    print()\n",
    "\n",
    "    print(\"Detailed classification report:\")\n",
    "    print()\n",
    "    print(\"The model is trained on the full development set.\")\n",
    "    print(\"The scores are computed on the full evaluation set.\")\n",
    "    print()\n",
    "    y_true, y_pred = y_test, clf.predict(X_test)\n",
    "    print(classification_report(y_true, y_pred))\n",
    "    print()"
   ]
  },
  {
   "cell_type": "code",
   "execution_count": 60,
   "metadata": {
    "colab": {
     "base_uri": "https://localhost:8080/",
     "height": 68
    },
    "colab_type": "code",
    "id": "cuPiqAJrayF1",
    "outputId": "5a7e2d10-31ff-488a-c062-309207c794b4"
   },
   "outputs": [
    {
     "data": {
      "text/plain": [
       "{'max_depth': [2, 3, 5, 7],\n",
       " 'min_samples_leaf': [2, 4],\n",
       " 'n_estimators': [9, 18, 27, 36, 45, 54, 63]}"
      ]
     },
     "execution_count": 60,
     "metadata": {
      "tags": []
     },
     "output_type": "execute_result"
    }
   ],
   "source": [
    "param_grid"
   ]
  },
  {
   "cell_type": "code",
   "execution_count": 61,
   "metadata": {
    "colab": {
     "base_uri": "https://localhost:8080/",
     "height": 85
    },
    "colab_type": "code",
    "id": "NcxBInMIayF3",
    "outputId": "2c842281-eb02-4005-ef45-1ff664dc3810"
   },
   "outputs": [
    {
     "name": "stdout",
     "output_type": "stream",
     "text": [
      "Fitting 5 folds for each of 56 candidates, totalling 280 fits\n"
     ]
    },
    {
     "name": "stderr",
     "output_type": "stream",
     "text": [
      "[Parallel(n_jobs=1)]: Using backend SequentialBackend with 1 concurrent workers.\n",
      "[Parallel(n_jobs=1)]: Done 280 out of 280 | elapsed:  2.3min finished\n"
     ]
    },
    {
     "name": "stdout",
     "output_type": "stream",
     "text": [
      "0.5928822839532173 {'max_depth': 7, 'min_samples_leaf': 4, 'n_estimators': 18}\n"
     ]
    }
   ],
   "source": [
    "CV_rfc = GridSearchCV(estimator=rfc, param_grid=param_grid,cv=5,verbose=1)\n",
    "CV_rfc.fit(X=X_train, y=y_train)\n",
    "print (CV_rfc.best_score_, CV_rfc.best_params_) "
   ]
  },
  {
   "cell_type": "code",
   "execution_count": 62,
   "metadata": {
    "colab": {
     "base_uri": "https://localhost:8080/",
     "height": 1000
    },
    "colab_type": "code",
    "id": "bI9NOUxRayF5",
    "outputId": "5bc83721-b1b3-493b-829b-8d3c3c6a8eb2"
   },
   "outputs": [
    {
     "data": {
      "text/plain": [
       "{'mean_fit_time': array([0.08605008, 0.14822283, 0.22118645, 0.2725512 , 0.33104796,\n",
       "        0.40374293, 0.44595118, 0.08090286, 0.15029387, 0.21092348,\n",
       "        0.27967582, 0.36357455, 0.43065209, 0.49468246, 0.10435905,\n",
       "        0.1832521 , 0.26668181, 0.34538522, 0.39839201, 0.49844823,\n",
       "        0.55647926, 0.10077434, 0.18736105, 0.26266146, 0.34062405,\n",
       "        0.39934373, 0.48870902, 0.55194006, 0.12474937, 0.23570027,\n",
       "        0.3311542 , 0.42551022, 0.532445  , 0.62774153, 0.72374148,\n",
       "        0.11832142, 0.23647146, 0.32744918, 0.4181253 , 0.51327829,\n",
       "        0.60138559, 0.68965721, 0.13872304, 0.26783266, 0.41750956,\n",
       "        0.54634032, 0.65956182, 0.76303511, 0.90132389, 0.15148578,\n",
       "        0.29592705, 0.41411672, 0.53379498, 0.64686604, 0.78800983,\n",
       "        0.9242424 ]),\n",
       " 'mean_score_time': array([0.10417533, 0.10408502, 0.10443006, 0.10430088, 0.10444646,\n",
       "        0.10408049, 0.10407381, 0.10372167, 0.10386734, 0.1041966 ,\n",
       "        0.10436888, 0.10470858, 0.10467882, 0.10489054, 0.10455794,\n",
       "        0.10428629, 0.10436025, 0.10444956, 0.10444803, 0.10435376,\n",
       "        0.1047091 , 0.10457063, 0.1043879 , 0.104281  , 0.10428438,\n",
       "        0.10446987, 0.1043787 , 0.10421162, 0.10440135, 0.10497532,\n",
       "        0.10418668, 0.10421748, 0.10433841, 0.10421438, 0.10438995,\n",
       "        0.10421085, 0.10431142, 0.10407739, 0.10403395, 0.10443087,\n",
       "        0.10392504, 0.1040638 , 0.1040822 , 0.10409579, 0.10433989,\n",
       "        0.10453153, 0.10467882, 0.1041791 , 0.10449572, 0.10461631,\n",
       "        0.10445046, 0.10433064, 0.10435462, 0.10436592, 0.10434527,\n",
       "        0.10457525]),\n",
       " 'mean_test_score': array([0.50313745, 0.52102399, 0.52973163, 0.52745666, 0.52954867,\n",
       "        0.52714263, 0.52910395, 0.51718036, 0.52588784, 0.53020245,\n",
       "        0.53069916, 0.53339262, 0.53085614, 0.53103908, 0.531196  ,\n",
       "        0.53509238, 0.53872684, 0.53804705, 0.54081911, 0.53966834,\n",
       "        0.53812577, 0.53402052, 0.53668723, 0.54050519, 0.53977287,\n",
       "        0.53707957, 0.53938073, 0.53945909, 0.56406563, 0.5692169 ,\n",
       "        0.57104752, 0.57000137, 0.57026303, 0.57295633, 0.56973993,\n",
       "        0.56315043, 0.56783104, 0.56707288, 0.56801403, 0.57034147,\n",
       "        0.57028911, 0.57157039, 0.58859345, 0.59110403, 0.59204541,\n",
       "        0.59264678, 0.59178371, 0.59285592, 0.59243756, 0.58540332,\n",
       "        0.59288228, 0.5920453 , 0.59152232, 0.59235907, 0.59220215,\n",
       "        0.59141772]),\n",
       " 'param_max_depth': masked_array(data=[2, 2, 2, 2, 2, 2, 2, 2, 2, 2, 2, 2, 2, 2, 3, 3, 3, 3,\n",
       "                    3, 3, 3, 3, 3, 3, 3, 3, 3, 3, 5, 5, 5, 5, 5, 5, 5, 5,\n",
       "                    5, 5, 5, 5, 5, 5, 7, 7, 7, 7, 7, 7, 7, 7, 7, 7, 7, 7,\n",
       "                    7, 7],\n",
       "              mask=[False, False, False, False, False, False, False, False,\n",
       "                    False, False, False, False, False, False, False, False,\n",
       "                    False, False, False, False, False, False, False, False,\n",
       "                    False, False, False, False, False, False, False, False,\n",
       "                    False, False, False, False, False, False, False, False,\n",
       "                    False, False, False, False, False, False, False, False,\n",
       "                    False, False, False, False, False, False, False, False],\n",
       "        fill_value='?',\n",
       "             dtype=object),\n",
       " 'param_min_samples_leaf': masked_array(data=[2, 2, 2, 2, 2, 2, 2, 4, 4, 4, 4, 4, 4, 4, 2, 2, 2, 2,\n",
       "                    2, 2, 2, 4, 4, 4, 4, 4, 4, 4, 2, 2, 2, 2, 2, 2, 2, 4,\n",
       "                    4, 4, 4, 4, 4, 4, 2, 2, 2, 2, 2, 2, 2, 4, 4, 4, 4, 4,\n",
       "                    4, 4],\n",
       "              mask=[False, False, False, False, False, False, False, False,\n",
       "                    False, False, False, False, False, False, False, False,\n",
       "                    False, False, False, False, False, False, False, False,\n",
       "                    False, False, False, False, False, False, False, False,\n",
       "                    False, False, False, False, False, False, False, False,\n",
       "                    False, False, False, False, False, False, False, False,\n",
       "                    False, False, False, False, False, False, False, False],\n",
       "        fill_value='?',\n",
       "             dtype=object),\n",
       " 'param_n_estimators': masked_array(data=[9, 18, 27, 36, 45, 54, 63, 9, 18, 27, 36, 45, 54, 63,\n",
       "                    9, 18, 27, 36, 45, 54, 63, 9, 18, 27, 36, 45, 54, 63,\n",
       "                    9, 18, 27, 36, 45, 54, 63, 9, 18, 27, 36, 45, 54, 63,\n",
       "                    9, 18, 27, 36, 45, 54, 63, 9, 18, 27, 36, 45, 54, 63],\n",
       "              mask=[False, False, False, False, False, False, False, False,\n",
       "                    False, False, False, False, False, False, False, False,\n",
       "                    False, False, False, False, False, False, False, False,\n",
       "                    False, False, False, False, False, False, False, False,\n",
       "                    False, False, False, False, False, False, False, False,\n",
       "                    False, False, False, False, False, False, False, False,\n",
       "                    False, False, False, False, False, False, False, False],\n",
       "        fill_value='?',\n",
       "             dtype=object),\n",
       " 'params': [{'max_depth': 2, 'min_samples_leaf': 2, 'n_estimators': 9},\n",
       "  {'max_depth': 2, 'min_samples_leaf': 2, 'n_estimators': 18},\n",
       "  {'max_depth': 2, 'min_samples_leaf': 2, 'n_estimators': 27},\n",
       "  {'max_depth': 2, 'min_samples_leaf': 2, 'n_estimators': 36},\n",
       "  {'max_depth': 2, 'min_samples_leaf': 2, 'n_estimators': 45},\n",
       "  {'max_depth': 2, 'min_samples_leaf': 2, 'n_estimators': 54},\n",
       "  {'max_depth': 2, 'min_samples_leaf': 2, 'n_estimators': 63},\n",
       "  {'max_depth': 2, 'min_samples_leaf': 4, 'n_estimators': 9},\n",
       "  {'max_depth': 2, 'min_samples_leaf': 4, 'n_estimators': 18},\n",
       "  {'max_depth': 2, 'min_samples_leaf': 4, 'n_estimators': 27},\n",
       "  {'max_depth': 2, 'min_samples_leaf': 4, 'n_estimators': 36},\n",
       "  {'max_depth': 2, 'min_samples_leaf': 4, 'n_estimators': 45},\n",
       "  {'max_depth': 2, 'min_samples_leaf': 4, 'n_estimators': 54},\n",
       "  {'max_depth': 2, 'min_samples_leaf': 4, 'n_estimators': 63},\n",
       "  {'max_depth': 3, 'min_samples_leaf': 2, 'n_estimators': 9},\n",
       "  {'max_depth': 3, 'min_samples_leaf': 2, 'n_estimators': 18},\n",
       "  {'max_depth': 3, 'min_samples_leaf': 2, 'n_estimators': 27},\n",
       "  {'max_depth': 3, 'min_samples_leaf': 2, 'n_estimators': 36},\n",
       "  {'max_depth': 3, 'min_samples_leaf': 2, 'n_estimators': 45},\n",
       "  {'max_depth': 3, 'min_samples_leaf': 2, 'n_estimators': 54},\n",
       "  {'max_depth': 3, 'min_samples_leaf': 2, 'n_estimators': 63},\n",
       "  {'max_depth': 3, 'min_samples_leaf': 4, 'n_estimators': 9},\n",
       "  {'max_depth': 3, 'min_samples_leaf': 4, 'n_estimators': 18},\n",
       "  {'max_depth': 3, 'min_samples_leaf': 4, 'n_estimators': 27},\n",
       "  {'max_depth': 3, 'min_samples_leaf': 4, 'n_estimators': 36},\n",
       "  {'max_depth': 3, 'min_samples_leaf': 4, 'n_estimators': 45},\n",
       "  {'max_depth': 3, 'min_samples_leaf': 4, 'n_estimators': 54},\n",
       "  {'max_depth': 3, 'min_samples_leaf': 4, 'n_estimators': 63},\n",
       "  {'max_depth': 5, 'min_samples_leaf': 2, 'n_estimators': 9},\n",
       "  {'max_depth': 5, 'min_samples_leaf': 2, 'n_estimators': 18},\n",
       "  {'max_depth': 5, 'min_samples_leaf': 2, 'n_estimators': 27},\n",
       "  {'max_depth': 5, 'min_samples_leaf': 2, 'n_estimators': 36},\n",
       "  {'max_depth': 5, 'min_samples_leaf': 2, 'n_estimators': 45},\n",
       "  {'max_depth': 5, 'min_samples_leaf': 2, 'n_estimators': 54},\n",
       "  {'max_depth': 5, 'min_samples_leaf': 2, 'n_estimators': 63},\n",
       "  {'max_depth': 5, 'min_samples_leaf': 4, 'n_estimators': 9},\n",
       "  {'max_depth': 5, 'min_samples_leaf': 4, 'n_estimators': 18},\n",
       "  {'max_depth': 5, 'min_samples_leaf': 4, 'n_estimators': 27},\n",
       "  {'max_depth': 5, 'min_samples_leaf': 4, 'n_estimators': 36},\n",
       "  {'max_depth': 5, 'min_samples_leaf': 4, 'n_estimators': 45},\n",
       "  {'max_depth': 5, 'min_samples_leaf': 4, 'n_estimators': 54},\n",
       "  {'max_depth': 5, 'min_samples_leaf': 4, 'n_estimators': 63},\n",
       "  {'max_depth': 7, 'min_samples_leaf': 2, 'n_estimators': 9},\n",
       "  {'max_depth': 7, 'min_samples_leaf': 2, 'n_estimators': 18},\n",
       "  {'max_depth': 7, 'min_samples_leaf': 2, 'n_estimators': 27},\n",
       "  {'max_depth': 7, 'min_samples_leaf': 2, 'n_estimators': 36},\n",
       "  {'max_depth': 7, 'min_samples_leaf': 2, 'n_estimators': 45},\n",
       "  {'max_depth': 7, 'min_samples_leaf': 2, 'n_estimators': 54},\n",
       "  {'max_depth': 7, 'min_samples_leaf': 2, 'n_estimators': 63},\n",
       "  {'max_depth': 7, 'min_samples_leaf': 4, 'n_estimators': 9},\n",
       "  {'max_depth': 7, 'min_samples_leaf': 4, 'n_estimators': 18},\n",
       "  {'max_depth': 7, 'min_samples_leaf': 4, 'n_estimators': 27},\n",
       "  {'max_depth': 7, 'min_samples_leaf': 4, 'n_estimators': 36},\n",
       "  {'max_depth': 7, 'min_samples_leaf': 4, 'n_estimators': 45},\n",
       "  {'max_depth': 7, 'min_samples_leaf': 4, 'n_estimators': 54},\n",
       "  {'max_depth': 7, 'min_samples_leaf': 4, 'n_estimators': 63}],\n",
       " 'rank_test_score': array([56, 54, 48, 51, 49, 52, 50, 55, 53, 47, 46, 42, 45, 44, 43, 40, 35,\n",
       "        37, 29, 32, 36, 41, 39, 30, 31, 38, 34, 33, 27, 23, 17, 21, 20, 15,\n",
       "        22, 28, 25, 26, 24, 18, 19, 16, 13, 12,  7,  3,  9,  2,  4, 14,  1,\n",
       "         8, 10,  5,  6, 11], dtype=int32),\n",
       " 'split0_test_score': array([0.50568702, 0.52516669, 0.53457968, 0.53706367, 0.52817362,\n",
       "        0.53418748, 0.53824029, 0.52320565, 0.52124461, 0.52921951,\n",
       "        0.53248791, 0.53640999, 0.53457968, 0.53431821, 0.53588704,\n",
       "        0.54020133, 0.53640999, 0.54726108, 0.54255458, 0.54059354,\n",
       "        0.53771735, 0.53235717, 0.54412341, 0.54360047, 0.55079095,\n",
       "        0.54255458, 0.5447771 , 0.5447771 , 0.56830958, 0.57811479,\n",
       "        0.57327755, 0.5756308 , 0.56935547, 0.57929141, 0.57471565,\n",
       "        0.56543339, 0.57249314, 0.57353902, 0.5741927 , 0.57536933,\n",
       "        0.57183946, 0.57327755, 0.59445679, 0.59641783, 0.59380311,\n",
       "        0.59406458, 0.5981174 , 0.5995555 , 0.59707151, 0.5901425 ,\n",
       "        0.59458753, 0.59393385, 0.59171133, 0.59550268, 0.59733298,\n",
       "        0.59328017]),\n",
       " 'split1_test_score': array([0.51836841, 0.51732253, 0.52791215, 0.52032945, 0.53052687,\n",
       "        0.53157275, 0.52673552, 0.49993463, 0.52765067, 0.52895803,\n",
       "        0.53157275, 0.52974245, 0.52660478, 0.53118055, 0.52921951,\n",
       "        0.52712773, 0.54935286, 0.53366453, 0.53484116, 0.54203164,\n",
       "        0.53288012, 0.52307491, 0.53627925, 0.53797882, 0.53484116,\n",
       "        0.53471042, 0.53601778, 0.53967839, 0.56190352, 0.56778664,\n",
       "        0.56961694, 0.57210093, 0.57249314, 0.57066283, 0.57040136,\n",
       "        0.56229572, 0.56844032, 0.559681  , 0.56922474, 0.56700222,\n",
       "        0.57262387, 0.57510786, 0.59210354, 0.585436  , 0.58988103,\n",
       "        0.59314943, 0.59275722, 0.58988103, 0.59053471, 0.5868741 ,\n",
       "        0.5868741 , 0.59367238, 0.594849  , 0.59367238, 0.59249575,\n",
       "        0.59328017]),\n",
       " 'split2_test_score': array([0.4542364 , 0.520659  , 0.52536611, 0.52157427, 0.52837343,\n",
       "        0.51699791, 0.52941946, 0.52196653, 0.52994247, 0.52549686,\n",
       "        0.53020397, 0.53072699, 0.5270659 , 0.52955021, 0.54262552,\n",
       "        0.53648013, 0.53098849, 0.53294979, 0.53621862, 0.53857218,\n",
       "        0.53595711, 0.54824791, 0.53595711, 0.53726464, 0.53595711,\n",
       "        0.53713389, 0.53530335, 0.54040272, 0.5583159 , 0.55949268,\n",
       "        0.56393828, 0.56694561, 0.5644613 , 0.57126046, 0.56276151,\n",
       "        0.56354603, 0.56576883, 0.56328452, 0.56080021, 0.56419979,\n",
       "        0.56171548, 0.56537657, 0.58263598, 0.58603556, 0.58616632,\n",
       "        0.58577406, 0.58355126, 0.5853818 , 0.58551255, 0.58237448,\n",
       "        0.59244247, 0.58851987, 0.58525105, 0.58577406, 0.58995816,\n",
       "        0.58381276]),\n",
       " 'split3_test_score': array([0.52209728, 0.50758368, 0.53007322, 0.52785042, 0.52941946,\n",
       "        0.52680439, 0.53138075, 0.5167364 , 0.53007322, 0.53085774,\n",
       "        0.52131276, 0.53478033, 0.53020397, 0.52549686, 0.5228818 ,\n",
       "        0.53308054, 0.54040272, 0.53621862, 0.54171025, 0.53595711,\n",
       "        0.54393305, 0.53713389, 0.53138075, 0.5396182 , 0.53661088,\n",
       "        0.53595711, 0.54197176, 0.53399582, 0.56197699, 0.57008368,\n",
       "        0.57557531, 0.57060669, 0.57439854, 0.5708682 , 0.5689069 ,\n",
       "        0.56746862, 0.57466004, 0.56825314, 0.57047594, 0.57557531,\n",
       "        0.57269874, 0.573091  , 0.59113494, 0.59191946, 0.59623431,\n",
       "        0.59388075, 0.59139644, 0.59283473, 0.59531904, 0.59074268,\n",
       "        0.59518828, 0.59309623, 0.59048117, 0.59270397, 0.5915272 ,\n",
       "        0.59375   ]),\n",
       " 'split4_test_score': array([0.51529812, 0.53438808, 0.53072699, 0.53046548, 0.53125   ,\n",
       "        0.52615063, 0.51974372, 0.52405858, 0.52052824, 0.53648013,\n",
       "        0.53791841, 0.53530335, 0.53582636, 0.53464958, 0.52536611,\n",
       "        0.53857218, 0.53648013, 0.54014121, 0.54877092, 0.54118724,\n",
       "        0.54014121, 0.5292887 , 0.53569561, 0.54406381, 0.54066423,\n",
       "        0.53504184, 0.53883368, 0.53844142, 0.56982218, 0.57060669,\n",
       "        0.5728295 , 0.5647228 , 0.57060669, 0.57269874, 0.57191423,\n",
       "        0.55700837, 0.55779289, 0.57060669, 0.56537657, 0.56956067,\n",
       "        0.57256799, 0.57099895, 0.58263598, 0.5957113 , 0.59414226,\n",
       "        0.59636506, 0.59309623, 0.59662657, 0.59375   , 0.57688285,\n",
       "        0.59531904, 0.59100418, 0.59531904, 0.59414226, 0.58969665,\n",
       "        0.59296548]),\n",
       " 'std_fit_time': array([0.00506952, 0.00483304, 0.00822937, 0.00411399, 0.01530981,\n",
       "        0.01532672, 0.0064291 , 0.00204171, 0.00468377, 0.00664403,\n",
       "        0.01195951, 0.00540179, 0.00257322, 0.00305351, 0.00134372,\n",
       "        0.0049945 , 0.00928389, 0.00917804, 0.00770006, 0.0032653 ,\n",
       "        0.00803287, 0.0029574 , 0.00546249, 0.00640555, 0.00816105,\n",
       "        0.00617903, 0.00855743, 0.01015557, 0.00418175, 0.00613215,\n",
       "        0.00593438, 0.00676044, 0.01369537, 0.00822226, 0.01605663,\n",
       "        0.00657805, 0.00806214, 0.01205049, 0.0083004 , 0.02039028,\n",
       "        0.01183341, 0.01195951, 0.00441887, 0.00646748, 0.00752798,\n",
       "        0.00850073, 0.01077754, 0.01380042, 0.00769535, 0.00279201,\n",
       "        0.00159861, 0.00424087, 0.01174262, 0.01235859, 0.01190171,\n",
       "        0.01482124]),\n",
       " 'std_score_time': array([2.38143953e-04, 1.52990317e-04, 1.00102714e-04, 1.19968344e-04,\n",
       "        1.11497682e-04, 1.12042162e-04, 9.36048953e-05, 1.57457117e-04,\n",
       "        6.43849185e-05, 1.31238147e-04, 2.05314109e-04, 8.64076560e-05,\n",
       "        1.25624593e-04, 2.23376931e-04, 2.06931142e-04, 6.96663168e-05,\n",
       "        9.88632587e-05, 1.18224694e-04, 1.30076195e-04, 7.93780779e-05,\n",
       "        8.18631867e-04, 2.50949616e-04, 9.67782804e-05, 5.09128124e-05,\n",
       "        1.73232689e-04, 6.42699016e-05, 1.84712153e-04, 1.16884683e-04,\n",
       "        2.03333731e-04, 1.63290182e-03, 1.43305679e-04, 1.43011040e-04,\n",
       "        7.72671910e-05, 1.33946893e-04, 2.02146867e-04, 3.69646398e-04,\n",
       "        1.08778502e-04, 1.45326511e-04, 1.55140565e-04, 3.93369830e-04,\n",
       "        1.06991824e-04, 1.61917596e-04, 2.37824300e-04, 1.03720533e-04,\n",
       "        7.90966922e-05, 1.99274293e-04, 5.63878527e-04, 1.85744716e-04,\n",
       "        1.72056327e-04, 2.75173862e-04, 1.97816687e-04, 1.10158734e-04,\n",
       "        1.30072664e-04, 7.23867391e-05, 1.53805184e-04, 1.63953965e-04]),\n",
       " 'std_test_score': array([0.02504856, 0.00883444, 0.00306527, 0.00611396, 0.00119499,\n",
       "        0.00588676, 0.0060329 , 0.00899037, 0.00417971, 0.00359154,\n",
       "        0.00537457, 0.00264992, 0.00377977, 0.00336872, 0.00720639,\n",
       "        0.00463938, 0.00609948, 0.00525006, 0.00497871, 0.00217821,\n",
       "        0.00374629, 0.00845074, 0.00412646, 0.00282542, 0.00584932,\n",
       "        0.0028637 , 0.00357961, 0.00346707, 0.00431846, 0.0059743 ,\n",
       "        0.00403081, 0.00383839, 0.00336683, 0.00324641, 0.00398284,\n",
       "        0.0035347 , 0.00589506, 0.00499366, 0.00457599, 0.00452002,\n",
       "        0.00429794, 0.00335947, 0.0049828 , 0.00464638, 0.00358557,\n",
       "        0.00360126, 0.00470552, 0.00497624, 0.00407616, 0.00519431,\n",
       "        0.00317663, 0.00204113, 0.00363127, 0.00341374, 0.00276334,\n",
       "        0.00381072])}"
      ]
     },
     "execution_count": 62,
     "metadata": {
      "tags": []
     },
     "output_type": "execute_result"
    }
   ],
   "source": [
    "CV_rfc.cv_results_"
   ]
  },
  {
   "cell_type": "code",
   "execution_count": 63,
   "metadata": {
    "colab": {
     "base_uri": "https://localhost:8080/",
     "height": 340
    },
    "colab_type": "code",
    "id": "8M7aCfFKayF8",
    "outputId": "73e03f7f-7a5d-47bf-905a-9f5b1fddebcc"
   },
   "outputs": [
    {
     "name": "stdout",
     "output_type": "stream",
     "text": [
      "                 precision    recall  f1-score   support\n",
      "\n",
      "       Adoption       0.50      0.92      0.65      2537\n",
      "           Died       0.00      0.00      0.00       577\n",
      "       Disposal       1.00      0.06      0.12        31\n",
      "     Euthanasia       0.87      0.55      0.67       843\n",
      "        Missing       0.00      0.00      0.00       516\n",
      "       Relocate       0.00      0.00      0.00       509\n",
      "Return to Owner       0.76      0.84      0.80      1952\n",
      "      Rto-Adopt       0.00      0.00      0.00       467\n",
      "       Transfer       0.59      0.61      0.60      2129\n",
      "\n",
      "       accuracy                           0.60      9561\n",
      "      macro avg       0.41      0.33      0.32      9561\n",
      "   weighted avg       0.50      0.60      0.53      9561\n",
      "\n",
      "-----------------------------------------\n",
      "Train - F1-Score (Micro) 0.6027404424454788\n",
      "Test - F1-Score (Micro) 0.6005647944775651\n"
     ]
    }
   ],
   "source": [
    "metrices(CV_rfc)"
   ]
  },
  {
   "cell_type": "code",
   "execution_count": 0,
   "metadata": {
    "colab": {},
    "colab_type": "code",
    "id": "gCEGSrBiayF9"
   },
   "outputs": [],
   "source": []
  }
 ],
 "metadata": {
  "accelerator": "GPU",
  "colab": {
   "name": "train_model.ipynb",
   "provenance": []
  },
  "kernelspec": {
   "display_name": "Python 3",
   "language": "python",
   "name": "python3"
  },
  "language_info": {
   "codemirror_mode": {
    "name": "ipython",
    "version": 3
   },
   "file_extension": ".py",
   "mimetype": "text/x-python",
   "name": "python",
   "nbconvert_exporter": "python",
   "pygments_lexer": "ipython3",
   "version": "3.7.3"
  }
 },
 "nbformat": 4,
 "nbformat_minor": 1
}
